{
 "cells": [
  {
   "cell_type": "markdown",
   "id": "9778310c",
   "metadata": {},
   "source": [
    "# GEI1002 Project Code Submission"
   ]
  },
  {
   "cell_type": "markdown",
   "id": "3a015704",
   "metadata": {},
   "source": [
    "Following cell helps to import necessary Python packages as well as utility files to abstract technical details from prospective users."
   ]
  },
  {
   "cell_type": "code",
   "execution_count": 1,
   "id": "712ac33a",
   "metadata": {},
   "outputs": [
    {
     "name": "stdout",
     "output_type": "stream",
     "text": [
      "Requirement already satisfied: numpy in c:\\users\\samse\\anaconda3\\lib\\site-packages (1.22.4)\n"
     ]
    },
    {
     "name": "stderr",
     "output_type": "stream",
     "text": [
      "WARNING: Ignoring invalid distribution -atplotlib (c:\\users\\samse\\anaconda3\\lib\\site-packages)\n",
      "WARNING: Ignoring invalid distribution -atplotlib (c:\\users\\samse\\anaconda3\\lib\\site-packages)\n",
      "DEPRECATION: pyodbc 4.0.0-unsupported has a non-standard version number. pip 24.1 will enforce this behaviour change. A possible replacement is to upgrade to a newer version of pyodbc or contact the author to suggest that they release a version with a conforming version number. Discussion can be found at https://github.com/pypa/pip/issues/12063\n"
     ]
    },
    {
     "name": "stdout",
     "output_type": "stream",
     "text": [
      "Requirement already satisfied: seaborn in c:\\users\\samse\\anaconda3\\lib\\site-packages (0.13.2)\n",
      "Requirement already satisfied: numpy!=1.24.0,>=1.20 in c:\\users\\samse\\anaconda3\\lib\\site-packages (from seaborn) (1.22.4)\n",
      "Requirement already satisfied: pandas>=1.2 in c:\\users\\samse\\anaconda3\\lib\\site-packages (from seaborn) (1.2.4)\n",
      "Requirement already satisfied: matplotlib!=3.6.1,>=3.4 in c:\\users\\samse\\anaconda3\\lib\\site-packages (from seaborn) (3.7.5)\n",
      "Requirement already satisfied: contourpy>=1.0.1 in c:\\users\\samse\\anaconda3\\lib\\site-packages (from matplotlib!=3.6.1,>=3.4->seaborn) (1.1.1)\n",
      "Requirement already satisfied: cycler>=0.10 in c:\\users\\samse\\anaconda3\\lib\\site-packages (from matplotlib!=3.6.1,>=3.4->seaborn) (0.10.0)\n",
      "Requirement already satisfied: fonttools>=4.22.0 in c:\\users\\samse\\anaconda3\\lib\\site-packages (from matplotlib!=3.6.1,>=3.4->seaborn) (4.51.0)\n",
      "Requirement already satisfied: kiwisolver>=1.0.1 in c:\\users\\samse\\anaconda3\\lib\\site-packages (from matplotlib!=3.6.1,>=3.4->seaborn) (1.3.1)\n",
      "Requirement already satisfied: packaging>=20.0 in c:\\users\\samse\\anaconda3\\lib\\site-packages (from matplotlib!=3.6.1,>=3.4->seaborn) (20.9)\n",
      "Requirement already satisfied: pillow>=6.2.0 in c:\\users\\samse\\anaconda3\\lib\\site-packages (from matplotlib!=3.6.1,>=3.4->seaborn) (8.2.0)\n",
      "Requirement already satisfied: pyparsing>=2.3.1 in c:\\users\\samse\\anaconda3\\lib\\site-packages (from matplotlib!=3.6.1,>=3.4->seaborn) (2.4.7)\n",
      "Requirement already satisfied: python-dateutil>=2.7 in c:\\users\\samse\\anaconda3\\lib\\site-packages (from matplotlib!=3.6.1,>=3.4->seaborn) (2.8.1)\n",
      "Requirement already satisfied: importlib-resources>=3.2.0 in c:\\users\\samse\\anaconda3\\lib\\site-packages (from matplotlib!=3.6.1,>=3.4->seaborn) (6.4.0)\n",
      "Requirement already satisfied: pytz>=2017.3 in c:\\users\\samse\\anaconda3\\lib\\site-packages (from pandas>=1.2->seaborn) (2021.1)\n",
      "Requirement already satisfied: six in c:\\users\\samse\\anaconda3\\lib\\site-packages (from cycler>=0.10->matplotlib!=3.6.1,>=3.4->seaborn) (1.15.0)\n",
      "Requirement already satisfied: zipp>=3.1.0 in c:\\users\\samse\\anaconda3\\lib\\site-packages (from importlib-resources>=3.2.0->matplotlib!=3.6.1,>=3.4->seaborn) (3.4.1)\n"
     ]
    },
    {
     "name": "stderr",
     "output_type": "stream",
     "text": [
      "WARNING: Ignoring invalid distribution -atplotlib (c:\\users\\samse\\anaconda3\\lib\\site-packages)\n",
      "WARNING: Ignoring invalid distribution -atplotlib (c:\\users\\samse\\anaconda3\\lib\\site-packages)\n",
      "DEPRECATION: pyodbc 4.0.0-unsupported has a non-standard version number. pip 24.1 will enforce this behaviour change. A possible replacement is to upgrade to a newer version of pyodbc or contact the author to suggest that they release a version with a conforming version number. Discussion can be found at https://github.com/pypa/pip/issues/12063\n"
     ]
    },
    {
     "name": "stdout",
     "output_type": "stream",
     "text": [
      "Requirement already satisfied: matplotlib in c:\\users\\samse\\anaconda3\\lib\\site-packages (3.7.5)\n",
      "Requirement already satisfied: contourpy>=1.0.1 in c:\\users\\samse\\anaconda3\\lib\\site-packages (from matplotlib) (1.1.1)\n",
      "Requirement already satisfied: cycler>=0.10 in c:\\users\\samse\\anaconda3\\lib\\site-packages (from matplotlib) (0.10.0)\n",
      "Requirement already satisfied: fonttools>=4.22.0 in c:\\users\\samse\\anaconda3\\lib\\site-packages (from matplotlib) (4.51.0)\n",
      "Requirement already satisfied: kiwisolver>=1.0.1 in c:\\users\\samse\\anaconda3\\lib\\site-packages (from matplotlib) (1.3.1)\n",
      "Requirement already satisfied: numpy<2,>=1.20 in c:\\users\\samse\\anaconda3\\lib\\site-packages (from matplotlib) (1.22.4)\n",
      "Requirement already satisfied: packaging>=20.0 in c:\\users\\samse\\anaconda3\\lib\\site-packages (from matplotlib) (20.9)\n",
      "Requirement already satisfied: pillow>=6.2.0 in c:\\users\\samse\\anaconda3\\lib\\site-packages (from matplotlib) (8.2.0)\n",
      "Requirement already satisfied: pyparsing>=2.3.1 in c:\\users\\samse\\anaconda3\\lib\\site-packages (from matplotlib) (2.4.7)\n",
      "Requirement already satisfied: python-dateutil>=2.7 in c:\\users\\samse\\anaconda3\\lib\\site-packages (from matplotlib) (2.8.1)\n",
      "Requirement already satisfied: importlib-resources>=3.2.0 in c:\\users\\samse\\anaconda3\\lib\\site-packages (from matplotlib) (6.4.0)\n",
      "Requirement already satisfied: six in c:\\users\\samse\\anaconda3\\lib\\site-packages (from cycler>=0.10->matplotlib) (1.15.0)\n",
      "Requirement already satisfied: zipp>=3.1.0 in c:\\users\\samse\\anaconda3\\lib\\site-packages (from importlib-resources>=3.2.0->matplotlib) (3.4.1)\n"
     ]
    },
    {
     "name": "stderr",
     "output_type": "stream",
     "text": [
      "WARNING: Ignoring invalid distribution -atplotlib (c:\\users\\samse\\anaconda3\\lib\\site-packages)\n",
      "WARNING: Ignoring invalid distribution -atplotlib (c:\\users\\samse\\anaconda3\\lib\\site-packages)\n",
      "DEPRECATION: pyodbc 4.0.0-unsupported has a non-standard version number. pip 24.1 will enforce this behaviour change. A possible replacement is to upgrade to a newer version of pyodbc or contact the author to suggest that they release a version with a conforming version number. Discussion can be found at https://github.com/pypa/pip/issues/12063\n"
     ]
    },
    {
     "name": "stdout",
     "output_type": "stream",
     "text": [
      "Collecting sklearn\n",
      "  Downloading sklearn-0.0.post12.tar.gz (2.6 kB)\n",
      "  Preparing metadata (setup.py): started\n",
      "  Preparing metadata (setup.py): finished with status 'error'\n"
     ]
    },
    {
     "name": "stderr",
     "output_type": "stream",
     "text": [
      "WARNING: Ignoring invalid distribution -atplotlib (c:\\users\\samse\\anaconda3\\lib\\site-packages)\n",
      "  error: subprocess-exited-with-error\n",
      "  \n",
      "  python setup.py egg_info did not run successfully.\n",
      "  exit code: 1\n",
      "  \n",
      "  [15 lines of output]\n",
      "  The 'sklearn' PyPI package is deprecated, use 'scikit-learn'\n",
      "  rather than 'sklearn' for pip commands.\n",
      "  \n",
      "  Here is how to fix this error in the main use cases:\n",
      "  - use 'pip install scikit-learn' rather than 'pip install sklearn'\n",
      "  - replace 'sklearn' by 'scikit-learn' in your pip requirements files\n",
      "    (requirements.txt, setup.py, setup.cfg, Pipfile, etc ...)\n",
      "  - if the 'sklearn' package is used by one of your dependencies,\n",
      "    it would be great if you take some time to track which package uses\n",
      "    'sklearn' instead of 'scikit-learn' and report it to their issue tracker\n",
      "  - as a last resort, set the environment variable\n",
      "    SKLEARN_ALLOW_DEPRECATED_SKLEARN_PACKAGE_INSTALL=True to avoid this error\n",
      "  \n",
      "  More information is available at\n",
      "  https://github.com/scikit-learn/sklearn-pypi-package\n",
      "  [end of output]\n",
      "  \n",
      "  note: This error originates from a subprocess, and is likely not a problem with pip.\n",
      "error: metadata-generation-failed\n",
      "\n",
      "Encountered error while generating package metadata.\n",
      "\n",
      "See above for output.\n",
      "\n",
      "note: This is an issue with the package mentioned above, not pip.\n",
      "hint: See above for details.\n"
     ]
    },
    {
     "name": "stdout",
     "output_type": "stream",
     "text": [
      "Requirement already satisfied: pysentimiento in c:\\users\\samse\\anaconda3\\lib\\site-packages (0.7.3)\n",
      "Requirement already satisfied: accelerate>=0.27.2 in c:\\users\\samse\\anaconda3\\lib\\site-packages (from pysentimiento) (0.29.3)\n",
      "Requirement already satisfied: datasets>=2.10.1 in c:\\users\\samse\\anaconda3\\lib\\site-packages (from pysentimiento) (2.19.0)\n",
      "Requirement already satisfied: emoji>=1.6.1 in c:\\users\\samse\\anaconda3\\lib\\site-packages (from pysentimiento) (2.11.1)\n",
      "Requirement already satisfied: spacy>=3.5.0 in c:\\users\\samse\\anaconda3\\lib\\site-packages (from pysentimiento) (3.7.4)\n",
      "Requirement already satisfied: torch!=2.0.1,>=2.0.0 in c:\\users\\samse\\anaconda3\\lib\\site-packages (from pysentimiento) (2.2.2)\n",
      "Requirement already satisfied: transformers>=4.13.0 in c:\\users\\samse\\anaconda3\\lib\\site-packages (from pysentimiento) (4.40.0)\n",
      "Requirement already satisfied: numpy>=1.17 in c:\\users\\samse\\anaconda3\\lib\\site-packages (from accelerate>=0.27.2->pysentimiento) (1.22.4)\n",
      "Requirement already satisfied: packaging>=20.0 in c:\\users\\samse\\anaconda3\\lib\\site-packages (from accelerate>=0.27.2->pysentimiento) (20.9)\n",
      "Requirement already satisfied: psutil in c:\\users\\samse\\anaconda3\\lib\\site-packages (from accelerate>=0.27.2->pysentimiento) (5.8.0)\n",
      "Requirement already satisfied: pyyaml in c:\\users\\samse\\anaconda3\\lib\\site-packages (from accelerate>=0.27.2->pysentimiento) (5.4.1)\n",
      "Requirement already satisfied: huggingface-hub in c:\\users\\samse\\anaconda3\\lib\\site-packages (from accelerate>=0.27.2->pysentimiento) (0.22.2)\n",
      "Requirement already satisfied: safetensors>=0.3.1 in c:\\users\\samse\\anaconda3\\lib\\site-packages (from accelerate>=0.27.2->pysentimiento) (0.4.3)\n",
      "Requirement already satisfied: filelock in c:\\users\\samse\\anaconda3\\lib\\site-packages (from datasets>=2.10.1->pysentimiento) (3.0.12)\n",
      "Requirement already satisfied: pyarrow>=12.0.0 in c:\\users\\samse\\anaconda3\\lib\\site-packages (from datasets>=2.10.1->pysentimiento) (16.0.0)\n",
      "Requirement already satisfied: pyarrow-hotfix in c:\\users\\samse\\anaconda3\\lib\\site-packages (from datasets>=2.10.1->pysentimiento) (0.6)\n",
      "Requirement already satisfied: dill<0.3.9,>=0.3.0 in c:\\users\\samse\\anaconda3\\lib\\site-packages (from datasets>=2.10.1->pysentimiento) (0.3.8)\n",
      "Requirement already satisfied: pandas in c:\\users\\samse\\anaconda3\\lib\\site-packages (from datasets>=2.10.1->pysentimiento) (1.2.4)\n",
      "Requirement already satisfied: requests>=2.19.0 in c:\\users\\samse\\anaconda3\\lib\\site-packages (from datasets>=2.10.1->pysentimiento) (2.31.0)\n",
      "Requirement already satisfied: tqdm>=4.62.1 in c:\\users\\samse\\anaconda3\\lib\\site-packages (from datasets>=2.10.1->pysentimiento) (4.66.2)\n",
      "Requirement already satisfied: xxhash in c:\\users\\samse\\anaconda3\\lib\\site-packages (from datasets>=2.10.1->pysentimiento) (3.4.1)\n",
      "Requirement already satisfied: multiprocess in c:\\users\\samse\\anaconda3\\lib\\site-packages (from datasets>=2.10.1->pysentimiento) (0.70.16)\n",
      "Requirement already satisfied: fsspec<=2024.3.1,>=2023.1.0 in c:\\users\\samse\\anaconda3\\lib\\site-packages (from fsspec[http]<=2024.3.1,>=2023.1.0->datasets>=2.10.1->pysentimiento) (2024.3.1)\n",
      "Requirement already satisfied: aiohttp in c:\\users\\samse\\anaconda3\\lib\\site-packages (from datasets>=2.10.1->pysentimiento) (3.8.5)\n",
      "Requirement already satisfied: spacy-legacy<3.1.0,>=3.0.11 in c:\\users\\samse\\anaconda3\\lib\\site-packages (from spacy>=3.5.0->pysentimiento) (3.0.12)\n",
      "Requirement already satisfied: spacy-loggers<2.0.0,>=1.0.0 in c:\\users\\samse\\anaconda3\\lib\\site-packages (from spacy>=3.5.0->pysentimiento) (1.0.5)\n",
      "Requirement already satisfied: murmurhash<1.1.0,>=0.28.0 in c:\\users\\samse\\anaconda3\\lib\\site-packages (from spacy>=3.5.0->pysentimiento) (1.0.10)\n",
      "Requirement already satisfied: cymem<2.1.0,>=2.0.2 in c:\\users\\samse\\anaconda3\\lib\\site-packages (from spacy>=3.5.0->pysentimiento) (2.0.8)\n",
      "Requirement already satisfied: preshed<3.1.0,>=3.0.2 in c:\\users\\samse\\anaconda3\\lib\\site-packages (from spacy>=3.5.0->pysentimiento) (3.0.9)\n",
      "Requirement already satisfied: thinc<8.3.0,>=8.2.2 in c:\\users\\samse\\anaconda3\\lib\\site-packages (from spacy>=3.5.0->pysentimiento) (8.2.3)\n",
      "Requirement already satisfied: wasabi<1.2.0,>=0.9.1 in c:\\users\\samse\\anaconda3\\lib\\site-packages (from spacy>=3.5.0->pysentimiento) (1.1.2)\n",
      "Requirement already satisfied: srsly<3.0.0,>=2.4.3 in c:\\users\\samse\\anaconda3\\lib\\site-packages (from spacy>=3.5.0->pysentimiento) (2.4.8)\n",
      "Requirement already satisfied: catalogue<2.1.0,>=2.0.6 in c:\\users\\samse\\anaconda3\\lib\\site-packages (from spacy>=3.5.0->pysentimiento) (2.0.10)\n",
      "Requirement already satisfied: weasel<0.4.0,>=0.1.0 in c:\\users\\samse\\anaconda3\\lib\\site-packages (from spacy>=3.5.0->pysentimiento) (0.3.4)\n",
      "Requirement already satisfied: typer<0.10.0,>=0.3.0 in c:\\users\\samse\\anaconda3\\lib\\site-packages (from spacy>=3.5.0->pysentimiento) (0.9.4)\n",
      "Requirement already satisfied: smart-open<7.0.0,>=5.2.1 in c:\\users\\samse\\anaconda3\\lib\\site-packages (from spacy>=3.5.0->pysentimiento) (6.4.0)\n",
      "Requirement already satisfied: pydantic!=1.8,!=1.8.1,<3.0.0,>=1.7.4 in c:\\users\\samse\\anaconda3\\lib\\site-packages (from spacy>=3.5.0->pysentimiento) (1.10.11)\n",
      "Requirement already satisfied: jinja2 in c:\\users\\samse\\anaconda3\\lib\\site-packages (from spacy>=3.5.0->pysentimiento) (2.11.3)\n",
      "Requirement already satisfied: setuptools in c:\\users\\samse\\anaconda3\\lib\\site-packages (from spacy>=3.5.0->pysentimiento) (69.5.1)\n",
      "Requirement already satisfied: langcodes<4.0.0,>=3.2.0 in c:\\users\\samse\\anaconda3\\lib\\site-packages (from spacy>=3.5.0->pysentimiento) (3.3.0)\n",
      "Requirement already satisfied: typing-extensions>=4.8.0 in c:\\users\\samse\\anaconda3\\lib\\site-packages (from torch!=2.0.1,>=2.0.0->pysentimiento) (4.11.0)\n",
      "Requirement already satisfied: sympy in c:\\users\\samse\\anaconda3\\lib\\site-packages (from torch!=2.0.1,>=2.0.0->pysentimiento) (1.8)\n",
      "Requirement already satisfied: networkx in c:\\users\\samse\\anaconda3\\lib\\site-packages (from torch!=2.0.1,>=2.0.0->pysentimiento) (2.5)\n",
      "Requirement already satisfied: regex!=2019.12.17 in c:\\users\\samse\\anaconda3\\lib\\site-packages (from transformers>=4.13.0->pysentimiento) (2021.4.4)\n",
      "Requirement already satisfied: tokenizers<0.20,>=0.19 in c:\\users\\samse\\anaconda3\\lib\\site-packages (from transformers>=4.13.0->pysentimiento) (0.19.1)\n",
      "Requirement already satisfied: attrs>=17.3.0 in c:\\users\\samse\\anaconda3\\lib\\site-packages (from aiohttp->datasets>=2.10.1->pysentimiento) (20.3.0)\n",
      "Requirement already satisfied: charset-normalizer<4.0,>=2.0 in c:\\users\\samse\\anaconda3\\lib\\site-packages (from aiohttp->datasets>=2.10.1->pysentimiento) (3.2.0)\n",
      "Requirement already satisfied: multidict<7.0,>=4.5 in c:\\users\\samse\\anaconda3\\lib\\site-packages (from aiohttp->datasets>=2.10.1->pysentimiento) (6.0.4)\n",
      "Requirement already satisfied: async-timeout<5.0,>=4.0.0a3 in c:\\users\\samse\\anaconda3\\lib\\site-packages (from aiohttp->datasets>=2.10.1->pysentimiento) (4.0.2)\n",
      "Requirement already satisfied: yarl<2.0,>=1.0 in c:\\users\\samse\\anaconda3\\lib\\site-packages (from aiohttp->datasets>=2.10.1->pysentimiento) (1.9.2)\n",
      "Requirement already satisfied: frozenlist>=1.1.1 in c:\\users\\samse\\anaconda3\\lib\\site-packages (from aiohttp->datasets>=2.10.1->pysentimiento) (1.4.0)\n",
      "Requirement already satisfied: aiosignal>=1.1.2 in c:\\users\\samse\\anaconda3\\lib\\site-packages (from aiohttp->datasets>=2.10.1->pysentimiento) (1.3.1)\n",
      "Requirement already satisfied: pyparsing>=2.0.2 in c:\\users\\samse\\anaconda3\\lib\\site-packages (from packaging>=20.0->accelerate>=0.27.2->pysentimiento) (2.4.7)\n",
      "Requirement already satisfied: idna<4,>=2.5 in c:\\users\\samse\\anaconda3\\lib\\site-packages (from requests>=2.19.0->datasets>=2.10.1->pysentimiento) (2.10)\n",
      "Requirement already satisfied: urllib3<3,>=1.21.1 in c:\\users\\samse\\anaconda3\\lib\\site-packages (from requests>=2.19.0->datasets>=2.10.1->pysentimiento) (1.26.4)\n",
      "Requirement already satisfied: certifi>=2017.4.17 in c:\\users\\samse\\anaconda3\\lib\\site-packages (from requests>=2.19.0->datasets>=2.10.1->pysentimiento) (2023.11.17)\n",
      "Requirement already satisfied: blis<0.8.0,>=0.7.8 in c:\\users\\samse\\anaconda3\\lib\\site-packages (from thinc<8.3.0,>=8.2.2->spacy>=3.5.0->pysentimiento) (0.7.11)\n",
      "Requirement already satisfied: confection<1.0.0,>=0.0.1 in c:\\users\\samse\\anaconda3\\lib\\site-packages (from thinc<8.3.0,>=8.2.2->spacy>=3.5.0->pysentimiento) (0.1.4)\n",
      "Requirement already satisfied: colorama in c:\\users\\samse\\anaconda3\\lib\\site-packages (from tqdm>=4.62.1->datasets>=2.10.1->pysentimiento) (0.4.6)\n",
      "Requirement already satisfied: click<9.0.0,>=7.1.1 in c:\\users\\samse\\anaconda3\\lib\\site-packages (from typer<0.10.0,>=0.3.0->spacy>=3.5.0->pysentimiento) (8.1.7)\n",
      "Requirement already satisfied: cloudpathlib<0.17.0,>=0.7.0 in c:\\users\\samse\\anaconda3\\lib\\site-packages (from weasel<0.4.0,>=0.1.0->spacy>=3.5.0->pysentimiento) (0.16.0)"
     ]
    },
    {
     "name": "stderr",
     "output_type": "stream",
     "text": [
      "WARNING: Ignoring invalid distribution -atplotlib (c:\\users\\samse\\anaconda3\\lib\\site-packages)\n",
      "WARNING: Ignoring invalid distribution -atplotlib (c:\\users\\samse\\anaconda3\\lib\\site-packages)\n",
      "DEPRECATION: pyodbc 4.0.0-unsupported has a non-standard version number. pip 24.1 will enforce this behaviour change. A possible replacement is to upgrade to a newer version of pyodbc or contact the author to suggest that they release a version with a conforming version number. Discussion can be found at https://github.com/pypa/pip/issues/12063\n"
     ]
    },
    {
     "name": "stdout",
     "output_type": "stream",
     "text": [
      "\n",
      "Requirement already satisfied: MarkupSafe>=0.23 in c:\\users\\samse\\anaconda3\\lib\\site-packages (from jinja2->spacy>=3.5.0->pysentimiento) (1.1.1)\n",
      "Requirement already satisfied: decorator>=4.3.0 in c:\\users\\samse\\anaconda3\\lib\\site-packages (from networkx->torch!=2.0.1,>=2.0.0->pysentimiento) (5.0.6)\n",
      "Requirement already satisfied: python-dateutil>=2.7.3 in c:\\users\\samse\\anaconda3\\lib\\site-packages (from pandas->datasets>=2.10.1->pysentimiento) (2.8.1)\n",
      "Requirement already satisfied: pytz>=2017.3 in c:\\users\\samse\\anaconda3\\lib\\site-packages (from pandas->datasets>=2.10.1->pysentimiento) (2021.1)\n",
      "Requirement already satisfied: mpmath>=0.19 in c:\\users\\samse\\anaconda3\\lib\\site-packages (from sympy->torch!=2.0.1,>=2.0.0->pysentimiento) (1.2.1)\n",
      "Requirement already satisfied: six>=1.5 in c:\\users\\samse\\anaconda3\\lib\\site-packages (from python-dateutil>=2.7.3->pandas->datasets>=2.10.1->pysentimiento) (1.15.0)\n",
      "Requirement already satisfied: googletrans in c:\\users\\samse\\anaconda3\\lib\\site-packages (3.1.0a0)\n",
      "Requirement already satisfied: httpx==0.13.3 in c:\\users\\samse\\anaconda3\\lib\\site-packages (from googletrans) (0.13.3)\n",
      "Requirement already satisfied: certifi in c:\\users\\samse\\anaconda3\\lib\\site-packages (from httpx==0.13.3->googletrans) (2023.11.17)\n",
      "Requirement already satisfied: hstspreload in c:\\users\\samse\\anaconda3\\lib\\site-packages (from httpx==0.13.3->googletrans) (2024.4.1)\n",
      "Requirement already satisfied: sniffio in c:\\users\\samse\\anaconda3\\lib\\site-packages (from httpx==0.13.3->googletrans) (1.3.0)\n",
      "Requirement already satisfied: chardet==3.* in c:\\users\\samse\\anaconda3\\lib\\site-packages (from httpx==0.13.3->googletrans) (3.0.4)\n",
      "Requirement already satisfied: idna==2.* in c:\\users\\samse\\anaconda3\\lib\\site-packages (from httpx==0.13.3->googletrans) (2.10)\n",
      "Requirement already satisfied: rfc3986<2,>=1.3 in c:\\users\\samse\\anaconda3\\lib\\site-packages (from httpx==0.13.3->googletrans) (1.5.0)\n",
      "Requirement already satisfied: httpcore==0.9.* in c:\\users\\samse\\anaconda3\\lib\\site-packages (from httpx==0.13.3->googletrans) (0.9.1)\n",
      "Requirement already satisfied: h11<0.10,>=0.8 in c:\\users\\samse\\anaconda3\\lib\\site-packages (from httpcore==0.9.*->httpx==0.13.3->googletrans) (0.9.0)\n",
      "Requirement already satisfied: h2==3.* in c:\\users\\samse\\anaconda3\\lib\\site-packages (from httpcore==0.9.*->httpx==0.13.3->googletrans) (3.2.0)\n",
      "Requirement already satisfied: hyperframe<6,>=5.2.0 in c:\\users\\samse\\anaconda3\\lib\\site-packages (from h2==3.*->httpcore==0.9.*->httpx==0.13.3->googletrans) (5.2.0)\n",
      "Requirement already satisfied: hpack<4,>=3.0 in c:\\users\\samse\\anaconda3\\lib\\site-packages (from h2==3.*->httpcore==0.9.*->httpx==0.13.3->googletrans) (3.0.0)"
     ]
    },
    {
     "name": "stderr",
     "output_type": "stream",
     "text": [
      "WARNING: Ignoring invalid distribution -atplotlib (c:\\users\\samse\\anaconda3\\lib\\site-packages)\n",
      "WARNING: Ignoring invalid distribution -atplotlib (c:\\users\\samse\\anaconda3\\lib\\site-packages)\n",
      "DEPRECATION: pyodbc 4.0.0-unsupported has a non-standard version number. pip 24.1 will enforce this behaviour change. A possible replacement is to upgrade to a newer version of pyodbc or contact the author to suggest that they release a version with a conforming version number. Discussion can be found at https://github.com/pypa/pip/issues/12063\n"
     ]
    },
    {
     "name": "stdout",
     "output_type": "stream",
     "text": [
      "\n",
      "Requirement already satisfied: spacy in c:\\users\\samse\\anaconda3\\lib\\site-packages (3.7.4)\n",
      "Requirement already satisfied: spacy-legacy<3.1.0,>=3.0.11 in c:\\users\\samse\\anaconda3\\lib\\site-packages (from spacy) (3.0.12)\n",
      "Requirement already satisfied: spacy-loggers<2.0.0,>=1.0.0 in c:\\users\\samse\\anaconda3\\lib\\site-packages (from spacy) (1.0.5)\n",
      "Requirement already satisfied: murmurhash<1.1.0,>=0.28.0 in c:\\users\\samse\\anaconda3\\lib\\site-packages (from spacy) (1.0.10)\n",
      "Requirement already satisfied: cymem<2.1.0,>=2.0.2 in c:\\users\\samse\\anaconda3\\lib\\site-packages (from spacy) (2.0.8)\n",
      "Requirement already satisfied: preshed<3.1.0,>=3.0.2 in c:\\users\\samse\\anaconda3\\lib\\site-packages (from spacy) (3.0.9)\n",
      "Requirement already satisfied: thinc<8.3.0,>=8.2.2 in c:\\users\\samse\\anaconda3\\lib\\site-packages (from spacy) (8.2.3)\n",
      "Requirement already satisfied: wasabi<1.2.0,>=0.9.1 in c:\\users\\samse\\anaconda3\\lib\\site-packages (from spacy) (1.1.2)\n",
      "Requirement already satisfied: srsly<3.0.0,>=2.4.3 in c:\\users\\samse\\anaconda3\\lib\\site-packages (from spacy) (2.4.8)\n",
      "Requirement already satisfied: catalogue<2.1.0,>=2.0.6 in c:\\users\\samse\\anaconda3\\lib\\site-packages (from spacy) (2.0.10)\n",
      "Requirement already satisfied: weasel<0.4.0,>=0.1.0 in c:\\users\\samse\\anaconda3\\lib\\site-packages (from spacy) (0.3.4)\n",
      "Requirement already satisfied: typer<0.10.0,>=0.3.0 in c:\\users\\samse\\anaconda3\\lib\\site-packages (from spacy) (0.9.4)\n",
      "Requirement already satisfied: smart-open<7.0.0,>=5.2.1 in c:\\users\\samse\\anaconda3\\lib\\site-packages (from spacy) (6.4.0)\n",
      "Requirement already satisfied: tqdm<5.0.0,>=4.38.0 in c:\\users\\samse\\anaconda3\\lib\\site-packages (from spacy) (4.66.2)\n",
      "Requirement already satisfied: requests<3.0.0,>=2.13.0 in c:\\users\\samse\\anaconda3\\lib\\site-packages (from spacy) (2.31.0)\n",
      "Requirement already satisfied: pydantic!=1.8,!=1.8.1,<3.0.0,>=1.7.4 in c:\\users\\samse\\anaconda3\\lib\\site-packages (from spacy) (1.10.11)\n",
      "Requirement already satisfied: jinja2 in c:\\users\\samse\\anaconda3\\lib\\site-packages (from spacy) (2.11.3)\n",
      "Requirement already satisfied: setuptools in c:\\users\\samse\\anaconda3\\lib\\site-packages (from spacy) (69.5.1)\n",
      "Requirement already satisfied: packaging>=20.0 in c:\\users\\samse\\anaconda3\\lib\\site-packages (from spacy) (20.9)\n",
      "Requirement already satisfied: langcodes<4.0.0,>=3.2.0 in c:\\users\\samse\\anaconda3\\lib\\site-packages (from spacy) (3.3.0)\n",
      "Requirement already satisfied: numpy>=1.15.0 in c:\\users\\samse\\anaconda3\\lib\\site-packages (from spacy) (1.22.4)\n",
      "Requirement already satisfied: pyparsing>=2.0.2 in c:\\users\\samse\\anaconda3\\lib\\site-packages (from packaging>=20.0->spacy) (2.4.7)\n",
      "Requirement already satisfied: typing-extensions>=4.2.0 in c:\\users\\samse\\anaconda3\\lib\\site-packages (from pydantic!=1.8,!=1.8.1,<3.0.0,>=1.7.4->spacy) (4.11.0)\n",
      "Requirement already satisfied: charset-normalizer<4,>=2 in c:\\users\\samse\\anaconda3\\lib\\site-packages (from requests<3.0.0,>=2.13.0->spacy) (3.2.0)\n",
      "Requirement already satisfied: idna<4,>=2.5 in c:\\users\\samse\\anaconda3\\lib\\site-packages (from requests<3.0.0,>=2.13.0->spacy) (2.10)\n",
      "Requirement already satisfied: urllib3<3,>=1.21.1 in c:\\users\\samse\\anaconda3\\lib\\site-packages (from requests<3.0.0,>=2.13.0->spacy) (1.26.4)\n",
      "Requirement already satisfied: certifi>=2017.4.17 in c:\\users\\samse\\anaconda3\\lib\\site-packages (from requests<3.0.0,>=2.13.0->spacy) (2023.11.17)\n",
      "Requirement already satisfied: blis<0.8.0,>=0.7.8 in c:\\users\\samse\\anaconda3\\lib\\site-packages (from thinc<8.3.0,>=8.2.2->spacy) (0.7.11)\n",
      "Requirement already satisfied: confection<1.0.0,>=0.0.1 in c:\\users\\samse\\anaconda3\\lib\\site-packages (from thinc<8.3.0,>=8.2.2->spacy) (0.1.4)\n",
      "Requirement already satisfied: colorama in c:\\users\\samse\\anaconda3\\lib\\site-packages (from tqdm<5.0.0,>=4.38.0->spacy) (0.4.6)\n",
      "Requirement already satisfied: click<9.0.0,>=7.1.1 in c:\\users\\samse\\anaconda3\\lib\\site-packages (from typer<0.10.0,>=0.3.0->spacy) (8.1.7)\n",
      "Requirement already satisfied: cloudpathlib<0.17.0,>=0.7.0 in c:\\users\\samse\\anaconda3\\lib\\site-packages (from weasel<0.4.0,>=0.1.0->spacy) (0.16.0)\n",
      "Requirement already satisfied: MarkupSafe>=0.23 in c:\\users\\samse\\anaconda3\\lib\\site-packages (from jinja2->spacy) (1.1.1)\n"
     ]
    },
    {
     "name": "stderr",
     "output_type": "stream",
     "text": [
      "WARNING: Ignoring invalid distribution -atplotlib (c:\\users\\samse\\anaconda3\\lib\\site-packages)\n",
      "WARNING: Ignoring invalid distribution -atplotlib (c:\\users\\samse\\anaconda3\\lib\\site-packages)\n",
      "DEPRECATION: pyodbc 4.0.0-unsupported has a non-standard version number. pip 24.1 will enforce this behaviour change. A possible replacement is to upgrade to a newer version of pyodbc or contact the author to suggest that they release a version with a conforming version number. Discussion can be found at https://github.com/pypa/pip/issues/12063\n"
     ]
    },
    {
     "name": "stdout",
     "output_type": "stream",
     "text": [
      "Requirement already satisfied: nltk in c:\\users\\samse\\anaconda3\\lib\\site-packages (3.6.1)\n",
      "Requirement already satisfied: click in c:\\users\\samse\\anaconda3\\lib\\site-packages (from nltk) (8.1.7)\n",
      "Requirement already satisfied: joblib in c:\\users\\samse\\anaconda3\\lib\\site-packages (from nltk) (1.0.1)\n",
      "Requirement already satisfied: regex in c:\\users\\samse\\anaconda3\\lib\\site-packages (from nltk) (2021.4.4)\n",
      "Requirement already satisfied: tqdm in c:\\users\\samse\\anaconda3\\lib\\site-packages (from nltk) (4.66.2)\n",
      "Requirement already satisfied: colorama in c:\\users\\samse\\anaconda3\\lib\\site-packages (from click->nltk) (0.4.6)\n"
     ]
    },
    {
     "name": "stderr",
     "output_type": "stream",
     "text": [
      "WARNING: Ignoring invalid distribution -atplotlib (c:\\users\\samse\\anaconda3\\lib\\site-packages)\n",
      "WARNING: Ignoring invalid distribution -atplotlib (c:\\users\\samse\\anaconda3\\lib\\site-packages)\n",
      "DEPRECATION: pyodbc 4.0.0-unsupported has a non-standard version number. pip 24.1 will enforce this behaviour change. A possible replacement is to upgrade to a newer version of pyodbc or contact the author to suggest that they release a version with a conforming version number. Discussion can be found at https://github.com/pypa/pip/issues/12063\n"
     ]
    }
   ],
   "source": [
    "import sys\n",
    "!{sys.executable} -m pip install numpy\n",
    "!{sys.executable} -m pip install seaborn\n",
    "!{sys.executable} -m pip install matplotlib\n",
    "!{sys.executable} -m pip install sklearn\n",
    "!{sys.executable} -m pip install pysentimiento\n",
    "!{sys.executable} -m pip install googletrans\n",
    "!{sys.executable} -m pip install spacy\n",
    "!{sys.executable} -m pip install nltk"
   ]
  },
  {
   "cell_type": "code",
   "execution_count": 2,
   "id": "d398e46e",
   "metadata": {},
   "outputs": [
    {
     "name": "stderr",
     "output_type": "stream",
     "text": [
      "[nltk_data] Downloading package stopwords to\n",
      "[nltk_data]     C:\\Users\\samse\\AppData\\Roaming\\nltk_data...\n",
      "[nltk_data]   Package stopwords is already up-to-date!\n"
     ]
    },
    {
     "data": {
      "text/plain": [
       "True"
      ]
     },
     "execution_count": 2,
     "metadata": {},
     "output_type": "execute_result"
    }
   ],
   "source": [
    "from randomised_sampler import RandomisedSampler\n",
    "from compare_raters import CompareRaters\n",
    "from comment_parser import CommentParser\n",
    "from sentiment_toxicity_labeler import SentimentToxicityLabeler\n",
    "import sentiment_analysis as sa\n",
    "import nltk\n",
    "import pandas as pd\n",
    "import matplotlib.pyplot as plt\n",
    "import seaborn as sns\n",
    "\n",
    "nltk.download('stopwords')"
   ]
  },
  {
   "cell_type": "markdown",
   "id": "fc9c0788",
   "metadata": {},
   "source": [
    "# Section 1: Sample Generation"
   ]
  },
  {
   "cell_type": "markdown",
   "id": "9d2a670c",
   "metadata": {},
   "source": [
    "For our sample generation, sklearn's <i>shuffle</i> function is used to randomise comments being sampled. <br>\n",
    "Note that creator name is tagged to the CSV filename, where the CSV file contains the comments being scraped. <br>\n",
    "The sample size refers to the number of comments sample from each Creator and Platform pair (i.e. welloshow, Youtube) <br>\n",
    "Lastly ensure that there is a column named 'Comment'."
   ]
  },
  {
   "cell_type": "code",
   "execution_count": 3,
   "id": "10b8cb98",
   "metadata": {},
   "outputs": [],
   "source": [
    "# do ensure that that your column containing the comments is named 'Comment'\n",
    "def create_sample(creators, sample_size, input_dir, output_dir, output_filename):\n",
    "    rs = RandomisedSampler(creators, sample_size, input_dir, output_dir, output_filename)\n",
    "    rs.random_sample()"
   ]
  },
  {
   "cell_type": "code",
   "execution_count": 4,
   "id": "0a09df89",
   "metadata": {},
   "outputs": [
    {
     "name": "stdout",
     "output_type": "stream",
     "text": [
      "You can find your sampled file as ./test/sample.csv\n"
     ]
    }
   ],
   "source": [
    "CREATOR_NAMES = [\"itsclarityco\", \"thebackstagebunch\", \"welloshow\"]\n",
    "create_sample(CREATOR_NAMES, 20, \"comments\", \"test\", \"sample\")"
   ]
  },
  {
   "cell_type": "markdown",
   "id": "b9c2371c",
   "metadata": {},
   "source": [
    "You can run the following cell as a sanity check for whether sampling was done successfully."
   ]
  },
  {
   "cell_type": "code",
   "execution_count": 5,
   "id": "05612144",
   "metadata": {},
   "outputs": [
    {
     "data": {
      "text/html": [
       "<div>\n",
       "<style scoped>\n",
       "    .dataframe tbody tr th:only-of-type {\n",
       "        vertical-align: middle;\n",
       "    }\n",
       "\n",
       "    .dataframe tbody tr th {\n",
       "        vertical-align: top;\n",
       "    }\n",
       "\n",
       "    .dataframe thead th {\n",
       "        text-align: right;\n",
       "    }\n",
       "</style>\n",
       "<table border=\"1\" class=\"dataframe\">\n",
       "  <thead>\n",
       "    <tr style=\"text-align: right;\">\n",
       "      <th></th>\n",
       "      <th>Unnamed: 0</th>\n",
       "      <th>Creator</th>\n",
       "      <th>Source</th>\n",
       "      <th>Comments</th>\n",
       "    </tr>\n",
       "  </thead>\n",
       "  <tbody>\n",
       "    <tr>\n",
       "      <th>0</th>\n",
       "      <td>44</td>\n",
       "      <td>welloshow</td>\n",
       "      <td>tiktok</td>\n",
       "      <td>can confirm that....</td>\n",
       "    </tr>\n",
       "    <tr>\n",
       "      <th>1</th>\n",
       "      <td>47</td>\n",
       "      <td>welloshow</td>\n",
       "      <td>tiktok</td>\n",
       "      <td>that's why i don't want to meet</td>\n",
       "    </tr>\n",
       "    <tr>\n",
       "      <th>2</th>\n",
       "      <td>4</td>\n",
       "      <td>itsclarityco</td>\n",
       "      <td>tiktok</td>\n",
       "      <td>deck of?</td>\n",
       "    </tr>\n",
       "    <tr>\n",
       "      <th>3</th>\n",
       "      <td>55</td>\n",
       "      <td>welloshow</td>\n",
       "      <td>tiktok</td>\n",
       "      <td>the wife also believe nah bro</td>\n",
       "    </tr>\n",
       "    <tr>\n",
       "      <th>4</th>\n",
       "      <td>26</td>\n",
       "      <td>thebackstagebunch</td>\n",
       "      <td>tiktok</td>\n",
       "      <td>fakkah tryna pull an andrew tate</td>\n",
       "    </tr>\n",
       "  </tbody>\n",
       "</table>\n",
       "</div>"
      ],
      "text/plain": [
       "   Unnamed: 0            Creator  Source                          Comments\n",
       "0          44          welloshow  tiktok              can confirm that....\n",
       "1          47          welloshow  tiktok   that's why i don't want to meet\n",
       "2           4       itsclarityco  tiktok                          deck of?\n",
       "3          55          welloshow  tiktok     the wife also believe nah bro\n",
       "4          26  thebackstagebunch  tiktok  fakkah tryna pull an andrew tate"
      ]
     },
     "execution_count": 5,
     "metadata": {},
     "output_type": "execute_result"
    }
   ],
   "source": [
    "df = pd.read_csv(\"./test/sample.csv\")\n",
    "df.head()"
   ]
  },
  {
   "cell_type": "markdown",
   "id": "be95c426",
   "metadata": {},
   "source": [
    "# Section 2: Inter-rater Comparison"
   ]
  },
  {
   "cell_type": "markdown",
   "id": "c8cb33e2",
   "metadata": {},
   "source": [
    "To evaluate Pysentimientio's accuracy in detecting sentiments and detecting toxicity, we performed manual evaluation of the model by manually performing sentiment and toxicity analysis. Thereafter, we perform inter-rater comparisons to ensure that the variance between our sentiments is acceptable. We also had to deconflict results where two raters voted 'a' and two raters voted 'b'. Therefore, the class CompareRaters code is modified from textprocessing.py provided in class."
   ]
  },
  {
   "cell_type": "markdown",
   "id": "61765e44",
   "metadata": {},
   "source": [
    "Run the cell below to check if the fields required are correct. You can toggle MODE between \"toxicity\" and \"sentiment\"."
   ]
  },
  {
   "cell_type": "code",
   "execution_count": 10,
   "id": "28a3f8e9",
   "metadata": {},
   "outputs": [
    {
     "data": {
      "text/plain": [
       "True"
      ]
     },
     "execution_count": 10,
     "metadata": {},
     "output_type": "execute_result"
    }
   ],
   "source": [
    "RATER_NAMES = [\"bt\", \"jl\", \"jz\", \"yasmeen\"]\n",
    "MODE = \"sentiment\"\n",
    "files = []\n",
    "\n",
    "for n in RATER_NAMES:\n",
    "    files.append(f\"./manual_coding/{n}_sample_comments.xlsx\")\n",
    "    \n",
    "CompareRaters.field_check(files, mode=MODE)"
   ]
  },
  {
   "cell_type": "markdown",
   "id": "c2c43cbd",
   "metadata": {},
   "source": [
    "The following cell combines ratings from all raters involved. <br>\n",
    "Note that mode here refers to \"toxicity\" or \"sentiment\"."
   ]
  },
  {
   "cell_type": "code",
   "execution_count": 11,
   "id": "d10b890a",
   "metadata": {},
   "outputs": [],
   "source": [
    "combined_df = CompareRaters.combine_ratings(RATER_NAMES, mode=MODE)"
   ]
  },
  {
   "cell_type": "markdown",
   "id": "094c35ad",
   "metadata": {},
   "source": [
    "The following cell checks if there are any non-agreements, i.e. two raters voted y, and two raters voted n. <br>\n",
    "If so the program is unable to decide what the actual ground truth is."
   ]
  },
  {
   "cell_type": "code",
   "execution_count": 12,
   "id": "9a250ee0",
   "metadata": {},
   "outputs": [
    {
     "name": "stdout",
     "output_type": "stream",
     "text": [
      "Number of no-agreements: 19\n"
     ]
    },
    {
     "data": {
      "text/html": [
       "<div>\n",
       "<style scoped>\n",
       "    .dataframe tbody tr th:only-of-type {\n",
       "        vertical-align: middle;\n",
       "    }\n",
       "\n",
       "    .dataframe tbody tr th {\n",
       "        vertical-align: top;\n",
       "    }\n",
       "\n",
       "    .dataframe thead th {\n",
       "        text-align: right;\n",
       "    }\n",
       "</style>\n",
       "<table border=\"1\" class=\"dataframe\">\n",
       "  <thead>\n",
       "    <tr style=\"text-align: right;\">\n",
       "      <th></th>\n",
       "      <th>Creator</th>\n",
       "      <th>Source</th>\n",
       "      <th>Comments</th>\n",
       "      <th>bt</th>\n",
       "      <th>jl</th>\n",
       "      <th>jz</th>\n",
       "      <th>yasmeen</th>\n",
       "      <th>ground truth</th>\n",
       "    </tr>\n",
       "  </thead>\n",
       "  <tbody>\n",
       "    <tr>\n",
       "      <th>0</th>\n",
       "      <td>itsclarityco</td>\n",
       "      <td>youtube</td>\n",
       "      <td>It's a moral responsibility of a child to take...</td>\n",
       "      <td>neu</td>\n",
       "      <td>neg</td>\n",
       "      <td>neg</td>\n",
       "      <td>neg</td>\n",
       "      <td>neg</td>\n",
       "    </tr>\n",
       "    <tr>\n",
       "      <th>1</th>\n",
       "      <td>itsclarityco</td>\n",
       "      <td>tiktok</td>\n",
       "      <td>any woman below 30 who is wealthy out there, i...</td>\n",
       "      <td>neu</td>\n",
       "      <td>neu</td>\n",
       "      <td>pos</td>\n",
       "      <td>pos</td>\n",
       "      <td>No agreement!</td>\n",
       "    </tr>\n",
       "    <tr>\n",
       "      <th>2</th>\n",
       "      <td>itsclarityco</td>\n",
       "      <td>youtube</td>\n",
       "      <td>Filial piety, to me, is different at different...</td>\n",
       "      <td>neu</td>\n",
       "      <td>neu</td>\n",
       "      <td>neu</td>\n",
       "      <td>neu</td>\n",
       "      <td>neu</td>\n",
       "    </tr>\n",
       "    <tr>\n",
       "      <th>3</th>\n",
       "      <td>thebackstagebunch</td>\n",
       "      <td>tiktok</td>\n",
       "      <td>their parents must be proud</td>\n",
       "      <td>pos</td>\n",
       "      <td>neu</td>\n",
       "      <td>neg</td>\n",
       "      <td>pos</td>\n",
       "      <td>pos</td>\n",
       "    </tr>\n",
       "    <tr>\n",
       "      <th>4</th>\n",
       "      <td>thebackstagebunch</td>\n",
       "      <td>tiktok</td>\n",
       "      <td>wait how about see the couple making out but t...</td>\n",
       "      <td>neu</td>\n",
       "      <td>neu</td>\n",
       "      <td>neu</td>\n",
       "      <td>neu</td>\n",
       "      <td>neu</td>\n",
       "    </tr>\n",
       "  </tbody>\n",
       "</table>\n",
       "</div>"
      ],
      "text/plain": [
       "             Creator   Source  \\\n",
       "0       itsclarityco  youtube   \n",
       "1       itsclarityco   tiktok   \n",
       "2       itsclarityco  youtube   \n",
       "3  thebackstagebunch   tiktok   \n",
       "4  thebackstagebunch   tiktok   \n",
       "\n",
       "                                            Comments   bt   jl   jz yasmeen  \\\n",
       "0  It's a moral responsibility of a child to take...  neu  neg  neg     neg   \n",
       "1  any woman below 30 who is wealthy out there, i...  neu  neu  pos     pos   \n",
       "2  Filial piety, to me, is different at different...  neu  neu  neu     neu   \n",
       "3                        their parents must be proud  pos  neu  neg     pos   \n",
       "4  wait how about see the couple making out but t...  neu  neu  neu     neu   \n",
       "\n",
       "    ground truth  \n",
       "0            neg  \n",
       "1  No agreement!  \n",
       "2            neu  \n",
       "3            pos  \n",
       "4            neu  "
      ]
     },
     "execution_count": 12,
     "metadata": {},
     "output_type": "execute_result"
    }
   ],
   "source": [
    "combined_df_parsed = CompareRaters.no_agreement_check(combined_df)\n",
    "combined_df_parsed.head()"
   ]
  },
  {
   "cell_type": "code",
   "execution_count": 13,
   "id": "8675ba10",
   "metadata": {},
   "outputs": [
    {
     "name": "stdout",
     "output_type": "stream",
     "text": [
      "Fliess Kappa is 0.6513046181809485\n"
     ]
    }
   ],
   "source": [
    "CompareRaters.calculate_fleiss_kappa(combined_df_parsed)"
   ]
  },
  {
   "cell_type": "markdown",
   "id": "563798ff",
   "metadata": {},
   "source": [
    "# Section 3: Manual Evaluation Analysis"
   ]
  },
  {
   "cell_type": "markdown",
   "id": "9fd52da0",
   "metadata": {},
   "source": [
    "For toxicity, we have the following confusion matrix, and the accuracy score given as well. <br>\n",
    "Accuracy score is calculated as number of mismatch over total number of comments. <br>\n",
    "Mismatch refers to actual and predicted labels being different."
   ]
  },
  {
   "cell_type": "code",
   "execution_count": 14,
   "id": "4c1c6667",
   "metadata": {},
   "outputs": [
    {
     "name": "stdout",
     "output_type": "stream",
     "text": [
      "The accuracy score is 85.0\n",
      "     n  y\n",
      "n  152  5\n",
      "y   22  1\n"
     ]
    },
    {
     "data": {
      "image/png": "[encoded data removed]",
      "text/plain": [
       "<Figure size 504x360 with 2 Axes>"
      ]
     },
     "metadata": {
      "needs_background": "light"
     },
     "output_type": "display_data"
    }
   ],
   "source": [
    "toxicity_analyzer = sa.sentiment_analysis(\"./manual_coding/toxicity_agreement_confirmed.xlsx\", \"toxicity\")\n",
    "toxicity_analyzer.confusion_matrix()"
   ]
  },
  {
   "cell_type": "markdown",
   "id": "81cf64d9",
   "metadata": {},
   "source": [
    "You can analyse true positives, true negatives, false positives, false negatives by examining the labels. For example, the following code examines the comments that were predicted as toxic but agreed amongst us human coders as not toxic, i.e. false positives."
   ]
  },
  {
   "cell_type": "code",
   "execution_count": 15,
   "id": "7d5f9fc2",
   "metadata": {},
   "outputs": [
    {
     "name": "stdout",
     "output_type": "stream",
     "text": [
      "5\n"
     ]
    },
    {
     "data": {
      "text/html": [
       "<div>\n",
       "<style scoped>\n",
       "    .dataframe tbody tr th:only-of-type {\n",
       "        vertical-align: middle;\n",
       "    }\n",
       "\n",
       "    .dataframe tbody tr th {\n",
       "        vertical-align: top;\n",
       "    }\n",
       "\n",
       "    .dataframe thead th {\n",
       "        text-align: right;\n",
       "    }\n",
       "</style>\n",
       "<table border=\"1\" class=\"dataframe\">\n",
       "  <thead>\n",
       "    <tr style=\"text-align: right;\">\n",
       "      <th></th>\n",
       "      <th>Creator</th>\n",
       "      <th>Source</th>\n",
       "      <th>Comments</th>\n",
       "      <th>bt</th>\n",
       "      <th>jl</th>\n",
       "      <th>jz</th>\n",
       "      <th>yasmeen</th>\n",
       "      <th>ground truth</th>\n",
       "      <th>prediction</th>\n",
       "    </tr>\n",
       "  </thead>\n",
       "  <tbody>\n",
       "    <tr>\n",
       "      <th>13</th>\n",
       "      <td>thebackstagebunch</td>\n",
       "      <td>youtube</td>\n",
       "      <td>THE HAIR ON HER ARM</td>\n",
       "      <td>y</td>\n",
       "      <td>n</td>\n",
       "      <td>n</td>\n",
       "      <td>y</td>\n",
       "      <td>n</td>\n",
       "      <td>y</td>\n",
       "    </tr>\n",
       "    <tr>\n",
       "      <th>41</th>\n",
       "      <td>welloshow</td>\n",
       "      <td>tiktok</td>\n",
       "      <td>\"the wife believe\" *does the hand thingy* i cant</td>\n",
       "      <td>n</td>\n",
       "      <td>n</td>\n",
       "      <td>n</td>\n",
       "      <td>n</td>\n",
       "      <td>n</td>\n",
       "      <td>y</td>\n",
       "    </tr>\n",
       "    <tr>\n",
       "      <th>76</th>\n",
       "      <td>welloshow</td>\n",
       "      <td>tiktok</td>\n",
       "      <td>the wife believe..</td>\n",
       "      <td>n</td>\n",
       "      <td>n</td>\n",
       "      <td>n</td>\n",
       "      <td>n</td>\n",
       "      <td>n</td>\n",
       "      <td>y</td>\n",
       "    </tr>\n",
       "    <tr>\n",
       "      <th>140</th>\n",
       "      <td>itsclarityco</td>\n",
       "      <td>youtube</td>\n",
       "      <td>She is kinda cute ...</td>\n",
       "      <td>n</td>\n",
       "      <td>n</td>\n",
       "      <td>n</td>\n",
       "      <td>n</td>\n",
       "      <td>n</td>\n",
       "      <td>y</td>\n",
       "    </tr>\n",
       "    <tr>\n",
       "      <th>178</th>\n",
       "      <td>thebackstagebunch</td>\n",
       "      <td>youtube</td>\n",
       "      <td>Hahaha Dew is cornered by the girls.</td>\n",
       "      <td>n</td>\n",
       "      <td>n</td>\n",
       "      <td>n</td>\n",
       "      <td>n</td>\n",
       "      <td>n</td>\n",
       "      <td>y</td>\n",
       "    </tr>\n",
       "  </tbody>\n",
       "</table>\n",
       "</div>"
      ],
      "text/plain": [
       "               Creator   Source  \\\n",
       "13   thebackstagebunch  youtube   \n",
       "41           welloshow   tiktok   \n",
       "76           welloshow   tiktok   \n",
       "140       itsclarityco  youtube   \n",
       "178  thebackstagebunch  youtube   \n",
       "\n",
       "                                             Comments bt jl jz yasmeen  \\\n",
       "13                                THE HAIR ON HER ARM  y  n  n       y   \n",
       "41   \"the wife believe\" *does the hand thingy* i cant  n  n  n       n   \n",
       "76                                 the wife believe..  n  n  n       n   \n",
       "140                             She is kinda cute ...  n  n  n       n   \n",
       "178              Hahaha Dew is cornered by the girls.  n  n  n       n   \n",
       "\n",
       "    ground truth prediction  \n",
       "13             n          y  \n",
       "41             n          y  \n",
       "76             n          y  \n",
       "140            n          y  \n",
       "178            n          y  "
      ]
     },
     "execution_count": 15,
     "metadata": {},
     "output_type": "execute_result"
    }
   ],
   "source": [
    "toxicity_analyzer.examine_labels(actual=\"n\", predicted=\"y\")"
   ]
  },
  {
   "cell_type": "code",
   "execution_count": 16,
   "id": "e5c39291",
   "metadata": {},
   "outputs": [
    {
     "name": "stdout",
     "output_type": "stream",
     "text": [
      "The accuracy score is 62.77777777777778\n",
      "     neg  neu  pos\n",
      "neg   17   22    1\n",
      "neu    9   61    1\n",
      "pos    5   29   35\n"
     ]
    },
    {
     "data": {
      "image/png": "[encoded data removed]",
      "text/plain": [
       "<Figure size 504x360 with 2 Axes>"
      ]
     },
     "metadata": {
      "needs_background": "light"
     },
     "output_type": "display_data"
    }
   ],
   "source": [
    "sentiment_analyzer = sa.sentiment_analysis(\"./manual_coding/agreement_confirmed.xlsx\", \"sentiment\")\n",
    "sentiment_analyzer.confusion_matrix()"
   ]
  },
  {
   "cell_type": "markdown",
   "id": "68a24a86",
   "metadata": {},
   "source": [
    "Likewise, you can examine the labels for sentiments here as well."
   ]
  },
  {
   "cell_type": "code",
   "execution_count": 17,
   "id": "0ce4e439",
   "metadata": {},
   "outputs": [
    {
     "name": "stdout",
     "output_type": "stream",
     "text": [
      "29\n"
     ]
    },
    {
     "data": {
      "text/html": [
       "<div>\n",
       "<style scoped>\n",
       "    .dataframe tbody tr th:only-of-type {\n",
       "        vertical-align: middle;\n",
       "    }\n",
       "\n",
       "    .dataframe tbody tr th {\n",
       "        vertical-align: top;\n",
       "    }\n",
       "\n",
       "    .dataframe thead th {\n",
       "        text-align: right;\n",
       "    }\n",
       "</style>\n",
       "<table border=\"1\" class=\"dataframe\">\n",
       "  <thead>\n",
       "    <tr style=\"text-align: right;\">\n",
       "      <th></th>\n",
       "      <th>Creator</th>\n",
       "      <th>Source</th>\n",
       "      <th>Comments</th>\n",
       "      <th>bt</th>\n",
       "      <th>jl</th>\n",
       "      <th>jz</th>\n",
       "      <th>yasmeen</th>\n",
       "      <th>ground truth</th>\n",
       "      <th>prediction</th>\n",
       "    </tr>\n",
       "  </thead>\n",
       "  <tbody>\n",
       "    <tr>\n",
       "      <th>1</th>\n",
       "      <td>itsclarityco</td>\n",
       "      <td>tiktok</td>\n",
       "      <td>any woman below 30 who is wealthy out there, im up to be a stay at home husband thanks.</td>\n",
       "      <td>neu</td>\n",
       "      <td>neu</td>\n",
       "      <td>pos</td>\n",
       "      <td>pos</td>\n",
       "      <td>pos</td>\n",
       "      <td>neu</td>\n",
       "    </tr>\n",
       "    <tr>\n",
       "      <th>30</th>\n",
       "      <td>itsclarityco</td>\n",
       "      <td>youtube</td>\n",
       "      <td>watching this podcast reminds me of myself when i was a child. I also had an ambitious mom who worked the entire day and people were always saying things (as the host hazelle has done here too) like it's \"needed\" for moms to send the kid to infant care (or in my case, left in the hands of FDWs). My sibling and I grew up to be neglected kids who have issues with intimacy, and I don't want my future kids to go through the same thing. The truth is that it's not necessarily \"needed\" to sacrifice time with the kid! You always have a choice - sometimes it means having to give up a job or interest if you prioritise the child. On a systemic level, I think Sg is also not the most family-friendly place to work in this respect.</td>\n",
       "      <td>neu</td>\n",
       "      <td>neg</td>\n",
       "      <td>pos</td>\n",
       "      <td>pos</td>\n",
       "      <td>pos</td>\n",
       "      <td>neu</td>\n",
       "    </tr>\n",
       "    <tr>\n",
       "      <th>34</th>\n",
       "      <td>itsclarityco</td>\n",
       "      <td>tiktok</td>\n",
       "      <td>but the male host is very handsome soo... he is an outlier?</td>\n",
       "      <td>pos</td>\n",
       "      <td>pos</td>\n",
       "      <td>pos</td>\n",
       "      <td>pos</td>\n",
       "      <td>pos</td>\n",
       "      <td>neu</td>\n",
       "    </tr>\n",
       "    <tr>\n",
       "      <th>41</th>\n",
       "      <td>welloshow</td>\n",
       "      <td>tiktok</td>\n",
       "      <td>\"the wife believe\" *does the hand thingy* i cant</td>\n",
       "      <td>neu</td>\n",
       "      <td>neu</td>\n",
       "      <td>pos</td>\n",
       "      <td>pos</td>\n",
       "      <td>pos</td>\n",
       "      <td>neu</td>\n",
       "    </tr>\n",
       "    <tr>\n",
       "      <th>48</th>\n",
       "      <td>welloshow</td>\n",
       "      <td>youtube</td>\n",
       "      <td>18:43 \"haikel lemme talk aaaaaa\" HAHAHAHHA</td>\n",
       "      <td>pos</td>\n",
       "      <td>pos</td>\n",
       "      <td>pos</td>\n",
       "      <td>pos</td>\n",
       "      <td>pos</td>\n",
       "      <td>neu</td>\n",
       "    </tr>\n",
       "    <tr>\n",
       "      <th>54</th>\n",
       "      <td>itsclarityco</td>\n",
       "      <td>youtube</td>\n",
       "      <td>thank you for sharing your personal experience with us! There's definitely no right or wrong way to parent (and no manual given!). What's most important is for us to find the right balance for your own family.</td>\n",
       "      <td>pos</td>\n",
       "      <td>pos</td>\n",
       "      <td>pos</td>\n",
       "      <td>pos</td>\n",
       "      <td>pos</td>\n",
       "      <td>neu</td>\n",
       "    </tr>\n",
       "    <tr>\n",
       "      <th>70</th>\n",
       "      <td>thebackstagebunch</td>\n",
       "      <td>youtube</td>\n",
       "      <td>Keisha what an eye candy</td>\n",
       "      <td>pos</td>\n",
       "      <td>pos</td>\n",
       "      <td>pos</td>\n",
       "      <td>pos</td>\n",
       "      <td>pos</td>\n",
       "      <td>neu</td>\n",
       "    </tr>\n",
       "    <tr>\n",
       "      <th>77</th>\n",
       "      <td>thebackstagebunch</td>\n",
       "      <td>tiktok</td>\n",
       "      <td>facts</td>\n",
       "      <td>pos</td>\n",
       "      <td>neu</td>\n",
       "      <td>pos</td>\n",
       "      <td>pos</td>\n",
       "      <td>pos</td>\n",
       "      <td>neu</td>\n",
       "    </tr>\n",
       "    <tr>\n",
       "      <th>82</th>\n",
       "      <td>thebackstagebunch</td>\n",
       "      <td>youtube</td>\n",
       "      <td>Munah and Keisha's outfits are BOMBBB</td>\n",
       "      <td>pos</td>\n",
       "      <td>pos</td>\n",
       "      <td>pos</td>\n",
       "      <td>pos</td>\n",
       "      <td>pos</td>\n",
       "      <td>neu</td>\n",
       "    </tr>\n",
       "    <tr>\n",
       "      <th>87</th>\n",
       "      <td>welloshow</td>\n",
       "      <td>tiktok</td>\n",
       "      <td>honest answers. yes ghost them</td>\n",
       "      <td>pos</td>\n",
       "      <td>neg</td>\n",
       "      <td>pos</td>\n",
       "      <td>pos</td>\n",
       "      <td>pos</td>\n",
       "      <td>neu</td>\n",
       "    </tr>\n",
       "    <tr>\n",
       "      <th>95</th>\n",
       "      <td>thebackstagebunch</td>\n",
       "      <td>youtube</td>\n",
       "      <td>they are literally JUST SAYING anything they want. love the chaotic energy</td>\n",
       "      <td>pos</td>\n",
       "      <td>pos</td>\n",
       "      <td>pos</td>\n",
       "      <td>pos</td>\n",
       "      <td>pos</td>\n",
       "      <td>neu</td>\n",
       "    </tr>\n",
       "    <tr>\n",
       "      <th>106</th>\n",
       "      <td>thebackstagebunch</td>\n",
       "      <td>youtube</td>\n",
       "      <td>The OG’s are back! Lol I was so confused why the previous channel name was changed.</td>\n",
       "      <td>pos</td>\n",
       "      <td>pos</td>\n",
       "      <td>pos</td>\n",
       "      <td>pos</td>\n",
       "      <td>pos</td>\n",
       "      <td>neu</td>\n",
       "    </tr>\n",
       "    <tr>\n",
       "      <th>112</th>\n",
       "      <td>thebackstagebunch</td>\n",
       "      <td>tiktok</td>\n",
       "      <td>w</td>\n",
       "      <td>neu</td>\n",
       "      <td>pos</td>\n",
       "      <td>pos</td>\n",
       "      <td>pos</td>\n",
       "      <td>pos</td>\n",
       "      <td>neu</td>\n",
       "    </tr>\n",
       "    <tr>\n",
       "      <th>117</th>\n",
       "      <td>itsclarityco</td>\n",
       "      <td>youtube</td>\n",
       "      <td>Agree</td>\n",
       "      <td>pos</td>\n",
       "      <td>pos</td>\n",
       "      <td>pos</td>\n",
       "      <td>pos</td>\n",
       "      <td>pos</td>\n",
       "      <td>neu</td>\n",
       "    </tr>\n",
       "    <tr>\n",
       "      <th>119</th>\n",
       "      <td>itsclarityco</td>\n",
       "      <td>tiktok</td>\n",
       "      <td>it's a bonus</td>\n",
       "      <td>neu</td>\n",
       "      <td>pos</td>\n",
       "      <td>pos</td>\n",
       "      <td>pos</td>\n",
       "      <td>pos</td>\n",
       "      <td>neu</td>\n",
       "    </tr>\n",
       "    <tr>\n",
       "      <th>136</th>\n",
       "      <td>thebackstagebunch</td>\n",
       "      <td>youtube</td>\n",
       "      <td>oh my god jade and saffron duo !!! the ogs are back im watching this guys</td>\n",
       "      <td>pos</td>\n",
       "      <td>pos</td>\n",
       "      <td>pos</td>\n",
       "      <td>pos</td>\n",
       "      <td>pos</td>\n",
       "      <td>neu</td>\n",
       "    </tr>\n",
       "    <tr>\n",
       "      <th>138</th>\n",
       "      <td>thebackstagebunch</td>\n",
       "      <td>tiktok</td>\n",
       "      <td>munah has a point</td>\n",
       "      <td>pos</td>\n",
       "      <td>pos</td>\n",
       "      <td>pos</td>\n",
       "      <td>pos</td>\n",
       "      <td>pos</td>\n",
       "      <td>neu</td>\n",
       "    </tr>\n",
       "    <tr>\n",
       "      <th>142</th>\n",
       "      <td>itsclarityco</td>\n",
       "      <td>tiktok</td>\n",
       "      <td>whether retirement plan or not...am taking care of them. there is no other relation as pure as with my parents</td>\n",
       "      <td>pos</td>\n",
       "      <td>pos</td>\n",
       "      <td>neu</td>\n",
       "      <td>pos</td>\n",
       "      <td>pos</td>\n",
       "      <td>neu</td>\n",
       "    </tr>\n",
       "    <tr>\n",
       "      <th>144</th>\n",
       "      <td>thebackstagebunch</td>\n",
       "      <td>youtube</td>\n",
       "      <td>safe to say that the old cast cannot be replaced</td>\n",
       "      <td>pos</td>\n",
       "      <td>pos</td>\n",
       "      <td>pos</td>\n",
       "      <td>pos</td>\n",
       "      <td>pos</td>\n",
       "      <td>neu</td>\n",
       "    </tr>\n",
       "    <tr>\n",
       "      <th>150</th>\n",
       "      <td>thebackstagebunch</td>\n",
       "      <td>youtube</td>\n",
       "      <td>Dew in a candy shop! mhmmmm</td>\n",
       "      <td>neu</td>\n",
       "      <td>pos</td>\n",
       "      <td>pos</td>\n",
       "      <td>pos</td>\n",
       "      <td>pos</td>\n",
       "      <td>neu</td>\n",
       "    </tr>\n",
       "    <tr>\n",
       "      <th>151</th>\n",
       "      <td>itsclarityco</td>\n",
       "      <td>tiktok</td>\n",
       "      <td>please, i'm trying to be a passenger princess</td>\n",
       "      <td>neu</td>\n",
       "      <td>neu</td>\n",
       "      <td>pos</td>\n",
       "      <td>pos</td>\n",
       "      <td>pos</td>\n",
       "      <td>neu</td>\n",
       "    </tr>\n",
       "    <tr>\n",
       "      <th>157</th>\n",
       "      <td>thebackstagebunch</td>\n",
       "      <td>youtube</td>\n",
       "      <td>POLYGAMY. yes. please.</td>\n",
       "      <td>neu</td>\n",
       "      <td>pos</td>\n",
       "      <td>pos</td>\n",
       "      <td>pos</td>\n",
       "      <td>pos</td>\n",
       "      <td>neu</td>\n",
       "    </tr>\n",
       "    <tr>\n",
       "      <th>163</th>\n",
       "      <td>welloshow</td>\n",
       "      <td>youtube</td>\n",
       "      <td>W VIDEO</td>\n",
       "      <td>pos</td>\n",
       "      <td>pos</td>\n",
       "      <td>pos</td>\n",
       "      <td>pos</td>\n",
       "      <td>pos</td>\n",
       "      <td>neu</td>\n",
       "    </tr>\n",
       "    <tr>\n",
       "      <th>164</th>\n",
       "      <td>welloshow</td>\n",
       "      <td>youtube</td>\n",
       "      <td>We neeed moreeee of this collabbb</td>\n",
       "      <td>pos</td>\n",
       "      <td>pos</td>\n",
       "      <td>pos</td>\n",
       "      <td>pos</td>\n",
       "      <td>pos</td>\n",
       "      <td>neu</td>\n",
       "    </tr>\n",
       "    <tr>\n",
       "      <th>165</th>\n",
       "      <td>welloshow</td>\n",
       "      <td>tiktok</td>\n",
       "      <td>true... man gd at ghostin</td>\n",
       "      <td>neu</td>\n",
       "      <td>neg</td>\n",
       "      <td>pos</td>\n",
       "      <td>pos</td>\n",
       "      <td>pos</td>\n",
       "      <td>neu</td>\n",
       "    </tr>\n",
       "    <tr>\n",
       "      <th>168</th>\n",
       "      <td>itsclarityco</td>\n",
       "      <td>tiktok</td>\n",
       "      <td>hayatiiimm kocaam olurumm</td>\n",
       "      <td>pos</td>\n",
       "      <td>pos</td>\n",
       "      <td>pos</td>\n",
       "      <td>pos</td>\n",
       "      <td>pos</td>\n",
       "      <td>neu</td>\n",
       "    </tr>\n",
       "    <tr>\n",
       "      <th>172</th>\n",
       "      <td>itsclarityco</td>\n",
       "      <td>tiktok</td>\n",
       "      <td>i have to visit yet. vegan so not looking at prawns i have a picture of beautiful vegetation and music and warmth</td>\n",
       "      <td>pos</td>\n",
       "      <td>pos</td>\n",
       "      <td>pos</td>\n",
       "      <td>pos</td>\n",
       "      <td>pos</td>\n",
       "      <td>neu</td>\n",
       "    </tr>\n",
       "    <tr>\n",
       "      <th>178</th>\n",
       "      <td>thebackstagebunch</td>\n",
       "      <td>youtube</td>\n",
       "      <td>Hahaha Dew is cornered by the girls.</td>\n",
       "      <td>neu</td>\n",
       "      <td>neu</td>\n",
       "      <td>pos</td>\n",
       "      <td>pos</td>\n",
       "      <td>pos</td>\n",
       "      <td>neu</td>\n",
       "    </tr>\n",
       "    <tr>\n",
       "      <th>179</th>\n",
       "      <td>welloshow</td>\n",
       "      <td>youtube</td>\n",
       "      <td>Bruh such an unexpected but a dream collab!</td>\n",
       "      <td>pos</td>\n",
       "      <td>pos</td>\n",
       "      <td>pos</td>\n",
       "      <td>pos</td>\n",
       "      <td>pos</td>\n",
       "      <td>neu</td>\n",
       "    </tr>\n",
       "  </tbody>\n",
       "</table>\n",
       "</div>"
      ],
      "text/plain": [
       "               Creator   Source  \\\n",
       "1         itsclarityco   tiktok   \n",
       "30        itsclarityco  youtube   \n",
       "34        itsclarityco   tiktok   \n",
       "41           welloshow   tiktok   \n",
       "48           welloshow  youtube   \n",
       "54        itsclarityco  youtube   \n",
       "70   thebackstagebunch  youtube   \n",
       "77   thebackstagebunch   tiktok   \n",
       "82   thebackstagebunch  youtube   \n",
       "87           welloshow   tiktok   \n",
       "95   thebackstagebunch  youtube   \n",
       "106  thebackstagebunch  youtube   \n",
       "112  thebackstagebunch   tiktok   \n",
       "117       itsclarityco  youtube   \n",
       "119       itsclarityco   tiktok   \n",
       "136  thebackstagebunch  youtube   \n",
       "138  thebackstagebunch   tiktok   \n",
       "142       itsclarityco   tiktok   \n",
       "144  thebackstagebunch  youtube   \n",
       "150  thebackstagebunch  youtube   \n",
       "151       itsclarityco   tiktok   \n",
       "157  thebackstagebunch  youtube   \n",
       "163          welloshow  youtube   \n",
       "164          welloshow  youtube   \n",
       "165          welloshow   tiktok   \n",
       "168       itsclarityco   tiktok   \n",
       "172       itsclarityco   tiktok   \n",
       "178  thebackstagebunch  youtube   \n",
       "179          welloshow  youtube   \n",
       "\n",
       "                                                                                                                                                                                                                                                                                                                                                                                                                                                                                                                                                                                                                                                                                                                                                   Comments  \\\n",
       "1                                                                                                                                                                                                                                                                                                                                                                                                                                                                                                                                                                                                                                                                   any woman below 30 who is wealthy out there, im up to be a stay at home husband thanks.   \n",
       "30   watching this podcast reminds me of myself when i was a child. I also had an ambitious mom who worked the entire day and people were always saying things (as the host hazelle has done here too) like it's \"needed\" for moms to send the kid to infant care (or in my case, left in the hands of FDWs). My sibling and I grew up to be neglected kids who have issues with intimacy, and I don't want my future kids to go through the same thing. The truth is that it's not necessarily \"needed\" to sacrifice time with the kid! You always have a choice - sometimes it means having to give up a job or interest if you prioritise the child. On a systemic level, I think Sg is also not the most family-friendly place to work in this respect.   \n",
       "34                                                                                                                                                                                                                                                                                                                                                                                                                                                                                                                                                                                                                                                                                              but the male host is very handsome soo... he is an outlier?   \n",
       "41                                                                                                                                                                                                                                                                                                                                                                                                                                                                                                                                                                                                                                                                                                         \"the wife believe\" *does the hand thingy* i cant   \n",
       "48                                                                                                                                                                                                                                                                                                                                                                                                                                                                                                                                                                                                                                                                                                               18:43 \"haikel lemme talk aaaaaa\" HAHAHAHHA   \n",
       "54                                                                                                                                                                                                                                                                                                                                                                                                                                                                                                                                        thank you for sharing your personal experience with us! There's definitely no right or wrong way to parent (and no manual given!). What's most important is for us to find the right balance for your own family.   \n",
       "70                                                                                                                                                                                                                                                                                                                                                                                                                                                                                                                                                                                                                                                                                                                                 Keisha what an eye candy   \n",
       "77                                                                                                                                                                                                                                                                                                                                                                                                                                                                                                                                                                                                                                                                                                                                                    facts   \n",
       "82                                                                                                                                                                                                                                                                                                                                                                                                                                                                                                                                                                                                                                                                                                                    Munah and Keisha's outfits are BOMBBB   \n",
       "87                                                                                                                                                                                                                                                                                                                                                                                                                                                                                                                                                                                                                                                                                                                           honest answers. yes ghost them   \n",
       "95                                                                                                                                                                                                                                                                                                                                                                                                                                                                                                                                                                                                                                                                               they are literally JUST SAYING anything they want. love the chaotic energy   \n",
       "106                                                                                                                                                                                                                                                                                                                                                                                                                                                                                                                                                                                                                                                                     The OG’s are back! Lol I was so confused why the previous channel name was changed.   \n",
       "112                                                                                                                                                                                                                                                                                                                                                                                                                                                                                                                                                                                                                                                                                                                                                       w   \n",
       "117                                                                                                                                                                                                                                                                                                                                                                                                                                                                                                                                                                                                                                                                                                                                                   Agree   \n",
       "119                                                                                                                                                                                                                                                                                                                                                                                                                                                                                                                                                                                                                                                                                                                                            it's a bonus   \n",
       "136                                                                                                                                                                                                                                                                                                                                                                                                                                                                                                                                                                                                                                                                               oh my god jade and saffron duo !!! the ogs are back im watching this guys   \n",
       "138                                                                                                                                                                                                                                                                                                                                                                                                                                                                                                                                                                                                                                                                                                                                       munah has a point   \n",
       "142                                                                                                                                                                                                                                                                                                                                                                                                                                                                                                                                                                                                                                          whether retirement plan or not...am taking care of them. there is no other relation as pure as with my parents   \n",
       "144                                                                                                                                                                                                                                                                                                                                                                                                                                                                                                                                                                                                                                                                                                        safe to say that the old cast cannot be replaced   \n",
       "150                                                                                                                                                                                                                                                                                                                                                                                                                                                                                                                                                                                                                                                                                                                             Dew in a candy shop! mhmmmm   \n",
       "151                                                                                                                                                                                                                                                                                                                                                                                                                                                                                                                                                                                                                                                                                                           please, i'm trying to be a passenger princess   \n",
       "157                                                                                                                                                                                                                                                                                                                                                                                                                                                                                                                                                                                                                                                                                                                                  POLYGAMY. yes. please.   \n",
       "163                                                                                                                                                                                                                                                                                                                                                                                                                                                                                                                                                                                                                                                                                                                                                 W VIDEO   \n",
       "164                                                                                                                                                                                                                                                                                                                                                                                                                                                                                                                                                                                                                                                                                                                       We neeed moreeee of this collabbb   \n",
       "165                                                                                                                                                                                                                                                                                                                                                                                                                                                                                                                                                                                                                                                                                                                               true... man gd at ghostin   \n",
       "168                                                                                                                                                                                                                                                                                                                                                                                                                                                                                                                                                                                                                                                                                                                               hayatiiimm kocaam olurumm   \n",
       "172                                                                                                                                                                                                                                                                                                                                                                                                                                                                                                                                                                                                                                       i have to visit yet. vegan so not looking at prawns i have a picture of beautiful vegetation and music and warmth   \n",
       "178                                                                                                                                                                                                                                                                                                                                                                                                                                                                                                                                                                                                                                                                                                                    Hahaha Dew is cornered by the girls.   \n",
       "179                                                                                                                                                                                                                                                                                                                                                                                                                                                                                                                                                                                                                                                                                                             Bruh such an unexpected but a dream collab!   \n",
       "\n",
       "      bt   jl   jz yasmeen ground truth prediction  \n",
       "1    neu  neu  pos     pos          pos        neu  \n",
       "30   neu  neg  pos     pos          pos        neu  \n",
       "34   pos  pos  pos     pos          pos        neu  \n",
       "41   neu  neu  pos     pos          pos        neu  \n",
       "48   pos  pos  pos     pos          pos        neu  \n",
       "54   pos  pos  pos     pos          pos        neu  \n",
       "70   pos  pos  pos     pos          pos        neu  \n",
       "77   pos  neu  pos     pos          pos        neu  \n",
       "82   pos  pos  pos     pos          pos        neu  \n",
       "87   pos  neg  pos     pos          pos        neu  \n",
       "95   pos  pos  pos     pos          pos        neu  \n",
       "106  pos  pos  pos     pos          pos        neu  \n",
       "112  neu  pos  pos     pos          pos        neu  \n",
       "117  pos  pos  pos     pos          pos        neu  \n",
       "119  neu  pos  pos     pos          pos        neu  \n",
       "136  pos  pos  pos     pos          pos        neu  \n",
       "138  pos  pos  pos     pos          pos        neu  \n",
       "142  pos  pos  neu     pos          pos        neu  \n",
       "144  pos  pos  pos     pos          pos        neu  \n",
       "150  neu  pos  pos     pos          pos        neu  \n",
       "151  neu  neu  pos     pos          pos        neu  \n",
       "157  neu  pos  pos     pos          pos        neu  \n",
       "163  pos  pos  pos     pos          pos        neu  \n",
       "164  pos  pos  pos     pos          pos        neu  \n",
       "165  neu  neg  pos     pos          pos        neu  \n",
       "168  pos  pos  pos     pos          pos        neu  \n",
       "172  pos  pos  pos     pos          pos        neu  \n",
       "178  neu  neu  pos     pos          pos        neu  \n",
       "179  pos  pos  pos     pos          pos        neu  "
      ]
     },
     "execution_count": 17,
     "metadata": {},
     "output_type": "execute_result"
    }
   ],
   "source": [
    "sentiment_analyzer.examine_labels(actual=\"pos\", predicted=\"neu\")"
   ]
  },
  {
   "cell_type": "code",
   "execution_count": 18,
   "id": "5d972a8a",
   "metadata": {},
   "outputs": [
    {
     "name": "stdout",
     "output_type": "stream",
     "text": [
      "22\n"
     ]
    },
    {
     "data": {
      "text/html": [
       "<div>\n",
       "<style scoped>\n",
       "    .dataframe tbody tr th:only-of-type {\n",
       "        vertical-align: middle;\n",
       "    }\n",
       "\n",
       "    .dataframe tbody tr th {\n",
       "        vertical-align: top;\n",
       "    }\n",
       "\n",
       "    .dataframe thead th {\n",
       "        text-align: right;\n",
       "    }\n",
       "</style>\n",
       "<table border=\"1\" class=\"dataframe\">\n",
       "  <thead>\n",
       "    <tr style=\"text-align: right;\">\n",
       "      <th></th>\n",
       "      <th>Creator</th>\n",
       "      <th>Source</th>\n",
       "      <th>Comments</th>\n",
       "      <th>bt</th>\n",
       "      <th>jl</th>\n",
       "      <th>jz</th>\n",
       "      <th>yasmeen</th>\n",
       "      <th>ground truth</th>\n",
       "      <th>prediction</th>\n",
       "    </tr>\n",
       "  </thead>\n",
       "  <tbody>\n",
       "    <tr>\n",
       "      <th>13</th>\n",
       "      <td>thebackstagebunch</td>\n",
       "      <td>youtube</td>\n",
       "      <td>THE HAIR ON HER ARM</td>\n",
       "      <td>neg</td>\n",
       "      <td>neu</td>\n",
       "      <td>neg</td>\n",
       "      <td>neg</td>\n",
       "      <td>neg</td>\n",
       "      <td>neu</td>\n",
       "    </tr>\n",
       "    <tr>\n",
       "      <th>15</th>\n",
       "      <td>welloshow</td>\n",
       "      <td>youtube</td>\n",
       "      <td>please ADD ENG SUBTITLES TILL THE END OF VID PLEASE\\n 28:10</td>\n",
       "      <td>neg</td>\n",
       "      <td>neg</td>\n",
       "      <td>neg</td>\n",
       "      <td>neu</td>\n",
       "      <td>neg</td>\n",
       "      <td>neu</td>\n",
       "    </tr>\n",
       "    <tr>\n",
       "      <th>20</th>\n",
       "      <td>welloshow</td>\n",
       "      <td>youtube</td>\n",
       "      <td>Alamak y aslem never stutter or blank anymore siaaaaaa like last timee</td>\n",
       "      <td>neu</td>\n",
       "      <td>neg</td>\n",
       "      <td>neu</td>\n",
       "      <td>neg</td>\n",
       "      <td>neg</td>\n",
       "      <td>neu</td>\n",
       "    </tr>\n",
       "    <tr>\n",
       "      <th>21</th>\n",
       "      <td>thebackstagebunch</td>\n",
       "      <td>tiktok</td>\n",
       "      <td>lol nothing to talk about , so now talk about this lol</td>\n",
       "      <td>neg</td>\n",
       "      <td>neg</td>\n",
       "      <td>neg</td>\n",
       "      <td>neg</td>\n",
       "      <td>neg</td>\n",
       "      <td>neu</td>\n",
       "    </tr>\n",
       "    <tr>\n",
       "      <th>37</th>\n",
       "      <td>welloshow</td>\n",
       "      <td>tiktok</td>\n",
       "      <td>the wife believe' babi ah</td>\n",
       "      <td>neg</td>\n",
       "      <td>neg</td>\n",
       "      <td>neg</td>\n",
       "      <td>neu</td>\n",
       "      <td>neg</td>\n",
       "      <td>neu</td>\n",
       "    </tr>\n",
       "    <tr>\n",
       "      <th>55</th>\n",
       "      <td>thebackstagebunch</td>\n",
       "      <td>tiktok</td>\n",
       "      <td>why need official? 18 year old no financial or emotional stability official for what?</td>\n",
       "      <td>neu</td>\n",
       "      <td>neg</td>\n",
       "      <td>neg</td>\n",
       "      <td>neg</td>\n",
       "      <td>neg</td>\n",
       "      <td>neu</td>\n",
       "    </tr>\n",
       "    <tr>\n",
       "      <th>72</th>\n",
       "      <td>itsclarityco</td>\n",
       "      <td>youtube</td>\n",
       "      <td>Singapore’s high rank structures are based solely on educational levels. Not Combat experience and exposures. \\n\\nYou’ll be surprised that some of the most decorated and respected soldiers in the US Military are actually corporals and sergeants whom had seen front line actions and life and death situations first hand. Not some officers whom simply has a degree or a so called “scholar”..</td>\n",
       "      <td>neg</td>\n",
       "      <td>neg</td>\n",
       "      <td>neg</td>\n",
       "      <td>neg</td>\n",
       "      <td>neg</td>\n",
       "      <td>neu</td>\n",
       "    </tr>\n",
       "    <tr>\n",
       "      <th>74</th>\n",
       "      <td>thebackstagebunch</td>\n",
       "      <td>tiktok</td>\n",
       "      <td>bruh if the tables were turned......</td>\n",
       "      <td>neg</td>\n",
       "      <td>neg</td>\n",
       "      <td>neg</td>\n",
       "      <td>neg</td>\n",
       "      <td>neg</td>\n",
       "      <td>neu</td>\n",
       "    </tr>\n",
       "    <tr>\n",
       "      <th>83</th>\n",
       "      <td>thebackstagebunch</td>\n",
       "      <td>tiktok</td>\n",
       "      <td>what did he call that thing? ilbv? man these kids are way young.. soft army</td>\n",
       "      <td>neg</td>\n",
       "      <td>neg</td>\n",
       "      <td>neg</td>\n",
       "      <td>neg</td>\n",
       "      <td>neg</td>\n",
       "      <td>neu</td>\n",
       "    </tr>\n",
       "    <tr>\n",
       "      <th>89</th>\n",
       "      <td>thebackstagebunch</td>\n",
       "      <td>youtube</td>\n",
       "      <td>“Minah beetch”</td>\n",
       "      <td>neu</td>\n",
       "      <td>neg</td>\n",
       "      <td>neu</td>\n",
       "      <td>neg</td>\n",
       "      <td>neg</td>\n",
       "      <td>neu</td>\n",
       "    </tr>\n",
       "    <tr>\n",
       "      <th>109</th>\n",
       "      <td>thebackstagebunch</td>\n",
       "      <td>tiktok</td>\n",
       "      <td>emmmm</td>\n",
       "      <td>neu</td>\n",
       "      <td>neg</td>\n",
       "      <td>neg</td>\n",
       "      <td>neg</td>\n",
       "      <td>neg</td>\n",
       "      <td>neu</td>\n",
       "    </tr>\n",
       "    <tr>\n",
       "      <th>110</th>\n",
       "      <td>thebackstagebunch</td>\n",
       "      <td>tiktok</td>\n",
       "      <td>aiyoo if all chabo like this .....</td>\n",
       "      <td>neg</td>\n",
       "      <td>neg</td>\n",
       "      <td>neg</td>\n",
       "      <td>neg</td>\n",
       "      <td>neg</td>\n",
       "      <td>neu</td>\n",
       "    </tr>\n",
       "    <tr>\n",
       "      <th>114</th>\n",
       "      <td>itsclarityco</td>\n",
       "      <td>youtube</td>\n",
       "      <td>Singaporeans are asset-rich, cash-poor.......lol.</td>\n",
       "      <td>neu</td>\n",
       "      <td>neg</td>\n",
       "      <td>neu</td>\n",
       "      <td>neg</td>\n",
       "      <td>neg</td>\n",
       "      <td>neu</td>\n",
       "    </tr>\n",
       "    <tr>\n",
       "      <th>124</th>\n",
       "      <td>itsclarityco</td>\n",
       "      <td>tiktok</td>\n",
       "      <td>frank?!! frank ocean???!!!</td>\n",
       "      <td>neu</td>\n",
       "      <td>neu</td>\n",
       "      <td>neg</td>\n",
       "      <td>neg</td>\n",
       "      <td>neg</td>\n",
       "      <td>neu</td>\n",
       "    </tr>\n",
       "    <tr>\n",
       "      <th>127</th>\n",
       "      <td>welloshow</td>\n",
       "      <td>youtube</td>\n",
       "      <td>Boleh nampak sah jufri tengah berbual world kat podcast wellow</td>\n",
       "      <td>neu</td>\n",
       "      <td>neu</td>\n",
       "      <td>neg</td>\n",
       "      <td>neg</td>\n",
       "      <td>neg</td>\n",
       "      <td>neu</td>\n",
       "    </tr>\n",
       "    <tr>\n",
       "      <th>133</th>\n",
       "      <td>thebackstagebunch</td>\n",
       "      <td>tiktok</td>\n",
       "      <td>andrew tate pasar malam version</td>\n",
       "      <td>neg</td>\n",
       "      <td>neg</td>\n",
       "      <td>neu</td>\n",
       "      <td>neg</td>\n",
       "      <td>neg</td>\n",
       "      <td>neu</td>\n",
       "    </tr>\n",
       "    <tr>\n",
       "      <th>155</th>\n",
       "      <td>itsclarityco</td>\n",
       "      <td>youtube</td>\n",
       "      <td>Really ?? I have no idea who they are.</td>\n",
       "      <td>neu</td>\n",
       "      <td>neg</td>\n",
       "      <td>neg</td>\n",
       "      <td>neg</td>\n",
       "      <td>neg</td>\n",
       "      <td>neu</td>\n",
       "    </tr>\n",
       "    <tr>\n",
       "      <th>161</th>\n",
       "      <td>thebackstagebunch</td>\n",
       "      <td>tiktok</td>\n",
       "      <td>that statement was suppose 2b ponder b4 marriage n not after~otherwise divorce is pending. love is d willingness to give n not d greed 2 take,more n more each subsequent times</td>\n",
       "      <td>neu</td>\n",
       "      <td>neg</td>\n",
       "      <td>neg</td>\n",
       "      <td>neg</td>\n",
       "      <td>neg</td>\n",
       "      <td>neu</td>\n",
       "    </tr>\n",
       "    <tr>\n",
       "      <th>166</th>\n",
       "      <td>welloshow</td>\n",
       "      <td>tiktok</td>\n",
       "      <td>if me i sire reply, eh gemuk eh ko rupanya</td>\n",
       "      <td>neu</td>\n",
       "      <td>neg</td>\n",
       "      <td>neg</td>\n",
       "      <td>neg</td>\n",
       "      <td>neg</td>\n",
       "      <td>neu</td>\n",
       "    </tr>\n",
       "    <tr>\n",
       "      <th>167</th>\n",
       "      <td>itsclarityco</td>\n",
       "      <td>tiktok</td>\n",
       "      <td>sad to say it is true with the girls as well</td>\n",
       "      <td>neg</td>\n",
       "      <td>neg</td>\n",
       "      <td>neg</td>\n",
       "      <td>neg</td>\n",
       "      <td>neg</td>\n",
       "      <td>neu</td>\n",
       "    </tr>\n",
       "    <tr>\n",
       "      <th>171</th>\n",
       "      <td>thebackstagebunch</td>\n",
       "      <td>tiktok</td>\n",
       "      <td>they wanna be different so bad.</td>\n",
       "      <td>neg</td>\n",
       "      <td>neg</td>\n",
       "      <td>neg</td>\n",
       "      <td>neg</td>\n",
       "      <td>neg</td>\n",
       "      <td>neu</td>\n",
       "    </tr>\n",
       "    <tr>\n",
       "      <th>177</th>\n",
       "      <td>thebackstagebunch</td>\n",
       "      <td>tiktok</td>\n",
       "      <td>ahmad tate</td>\n",
       "      <td>neg</td>\n",
       "      <td>neg</td>\n",
       "      <td>neg</td>\n",
       "      <td>neg</td>\n",
       "      <td>neg</td>\n",
       "      <td>neu</td>\n",
       "    </tr>\n",
       "  </tbody>\n",
       "</table>\n",
       "</div>"
      ],
      "text/plain": [
       "               Creator   Source  \\\n",
       "13   thebackstagebunch  youtube   \n",
       "15           welloshow  youtube   \n",
       "20           welloshow  youtube   \n",
       "21   thebackstagebunch   tiktok   \n",
       "37           welloshow   tiktok   \n",
       "55   thebackstagebunch   tiktok   \n",
       "72        itsclarityco  youtube   \n",
       "74   thebackstagebunch   tiktok   \n",
       "83   thebackstagebunch   tiktok   \n",
       "89   thebackstagebunch  youtube   \n",
       "109  thebackstagebunch   tiktok   \n",
       "110  thebackstagebunch   tiktok   \n",
       "114       itsclarityco  youtube   \n",
       "124       itsclarityco   tiktok   \n",
       "127          welloshow  youtube   \n",
       "133  thebackstagebunch   tiktok   \n",
       "155       itsclarityco  youtube   \n",
       "161  thebackstagebunch   tiktok   \n",
       "166          welloshow   tiktok   \n",
       "167       itsclarityco   tiktok   \n",
       "171  thebackstagebunch   tiktok   \n",
       "177  thebackstagebunch   tiktok   \n",
       "\n",
       "                                                                                                                                                                                                                                                                                                                                                                                                  Comments  \\\n",
       "13                                                                                                                                                                                                                                                                                                                                                                                     THE HAIR ON HER ARM   \n",
       "15                                                                                                                                                                                                                                                                                                                                             please ADD ENG SUBTITLES TILL THE END OF VID PLEASE\\n 28:10   \n",
       "20                                                                                                                                                                                                                                                                                                                                  Alamak y aslem never stutter or blank anymore siaaaaaa like last timee   \n",
       "21                                                                                                                                                                                                                                                                                                                                                  lol nothing to talk about , so now talk about this lol   \n",
       "37                                                                                                                                                                                                                                                                                                                                                                               the wife believe' babi ah   \n",
       "55                                                                                                                                                                                                                                                                                                                   why need official? 18 year old no financial or emotional stability official for what?   \n",
       "72   Singapore’s high rank structures are based solely on educational levels. Not Combat experience and exposures. \\n\\nYou’ll be surprised that some of the most decorated and respected soldiers in the US Military are actually corporals and sergeants whom had seen front line actions and life and death situations first hand. Not some officers whom simply has a degree or a so called “scholar”..   \n",
       "74                                                                                                                                                                                                                                                                                                                                                                    bruh if the tables were turned......   \n",
       "83                                                                                                                                                                                                                                                                                                                             what did he call that thing? ilbv? man these kids are way young.. soft army   \n",
       "89                                                                                                                                                                                                                                                                                                                                                                                          “Minah beetch”   \n",
       "109                                                                                                                                                                                                                                                                                                                                                                                                  emmmm   \n",
       "110                                                                                                                                                                                                                                                                                                                                                                     aiyoo if all chabo like this .....   \n",
       "114                                                                                                                                                                                                                                                                                                                                                      Singaporeans are asset-rich, cash-poor.......lol.   \n",
       "124                                                                                                                                                                                                                                                                                                                                                                             frank?!! frank ocean???!!!   \n",
       "127                                                                                                                                                                                                                                                                                                                                         Boleh nampak sah jufri tengah berbual world kat podcast wellow   \n",
       "133                                                                                                                                                                                                                                                                                                                                                                        andrew tate pasar malam version   \n",
       "155                                                                                                                                                                                                                                                                                                                                                                 Really ?? I have no idea who they are.   \n",
       "161                                                                                                                                                                                                                        that statement was suppose 2b ponder b4 marriage n not after~otherwise divorce is pending. love is d willingness to give n not d greed 2 take,more n more each subsequent times   \n",
       "166                                                                                                                                                                                                                                                                                                                                                             if me i sire reply, eh gemuk eh ko rupanya   \n",
       "167                                                                                                                                                                                                                                                                                                                                                           sad to say it is true with the girls as well   \n",
       "171                                                                                                                                                                                                                                                                                                                                                                        they wanna be different so bad.   \n",
       "177                                                                                                                                                                                                                                                                                                                                                                                             ahmad tate   \n",
       "\n",
       "      bt   jl   jz yasmeen ground truth prediction  \n",
       "13   neg  neu  neg     neg          neg        neu  \n",
       "15   neg  neg  neg     neu          neg        neu  \n",
       "20   neu  neg  neu     neg          neg        neu  \n",
       "21   neg  neg  neg     neg          neg        neu  \n",
       "37   neg  neg  neg     neu          neg        neu  \n",
       "55   neu  neg  neg     neg          neg        neu  \n",
       "72   neg  neg  neg     neg          neg        neu  \n",
       "74   neg  neg  neg     neg          neg        neu  \n",
       "83   neg  neg  neg     neg          neg        neu  \n",
       "89   neu  neg  neu     neg          neg        neu  \n",
       "109  neu  neg  neg     neg          neg        neu  \n",
       "110  neg  neg  neg     neg          neg        neu  \n",
       "114  neu  neg  neu     neg          neg        neu  \n",
       "124  neu  neu  neg     neg          neg        neu  \n",
       "127  neu  neu  neg     neg          neg        neu  \n",
       "133  neg  neg  neu     neg          neg        neu  \n",
       "155  neu  neg  neg     neg          neg        neu  \n",
       "161  neu  neg  neg     neg          neg        neu  \n",
       "166  neu  neg  neg     neg          neg        neu  \n",
       "167  neg  neg  neg     neg          neg        neu  \n",
       "171  neg  neg  neg     neg          neg        neu  \n",
       "177  neg  neg  neg     neg          neg        neu  "
      ]
     },
     "execution_count": 18,
     "metadata": {},
     "output_type": "execute_result"
    }
   ],
   "source": [
    "sentiment_analyzer.examine_labels(actual=\"neg\", predicted=\"neu\")"
   ]
  },
  {
   "cell_type": "markdown",
   "id": "8e51fa6b",
   "metadata": {},
   "source": [
    "# Section 4: Sentiment and Toxicity Analysis"
   ]
  },
  {
   "cell_type": "markdown",
   "id": "c85d2081",
   "metadata": {},
   "source": [
    "To perform sentiment analysis and toxicity detection, we first have to clean the comments up. "
   ]
  },
  {
   "cell_type": "markdown",
   "id": "540699de",
   "metadata": {},
   "source": [
    "We perform a two-step process consisting of translation and comment cleaning for NLP."
   ]
  },
  {
   "cell_type": "markdown",
   "id": "2a833640",
   "metadata": {},
   "source": [
    "The following cell shows how the CommentParser cleans a comment. Irrelevant spaces, tags, newlines, repetitions, punctuations, stopwords are all removed from the comment. We also included a manual filter for users."
   ]
  },
  {
   "cell_type": "code",
   "execution_count": 19,
   "id": "84cb6bf4",
   "metadata": {},
   "outputs": [
    {
     "name": "stdout",
     "output_type": "stream",
     "text": [
      "hi boy\n"
     ]
    }
   ],
   "source": [
    "comment = \"hi I am @ boy\"\n",
    "FILTER_WORDS = ['hi', 'hihi', 'hihihi']\n",
    "cleaned_comment = CommentParser.clean_comment(comment, FILTER_WORDS)\n",
    "print(cleaned_comment)  # cleaned comment -> hi boy (filtered @ and h)"
   ]
  },
  {
   "cell_type": "markdown",
   "id": "55098efa",
   "metadata": {},
   "source": [
    "The following cell shows how the CommentParser translates a comment. To translate the comment, we used an API endpoint provided by Google Translate. This help to both detect and translate to our defaulted language which is English."
   ]
  },
  {
   "cell_type": "code",
   "execution_count": 20,
   "id": "25efcd6e",
   "metadata": {},
   "outputs": [
    {
     "name": "stdout",
     "output_type": "stream",
     "text": [
      "Translated comment: It can be seen that jufri is talking about the world on the wellow podcast\n"
     ]
    }
   ],
   "source": [
    "comment = \"Boleh nampak sah jufri tengah berbual world kat podcast wellow\"\n",
    "comment = CommentParser.translate_comment(comment).text\n",
    "print(f\"Translated comment: {comment}\")"
   ]
  },
  {
   "cell_type": "markdown",
   "id": "8a75c76f",
   "metadata": {},
   "source": [
    "The following cell shows how the comment can be analysed by sentiment."
   ]
  },
  {
   "cell_type": "code",
   "execution_count": 21,
   "id": "35185841",
   "metadata": {},
   "outputs": [
    {
     "name": "stdout",
     "output_type": "stream",
     "text": [
      "Comment after cleaning: seen jufri talking world wellow podcast\n",
      "AnalyzerOutput(output=NEU, probas={NEU: 0.960, POS: 0.036, NEG: 0.004})\n"
     ]
    }
   ],
   "source": [
    "cleaned_comment = CommentParser.clean_comment(comment, FILTER_WORDS)\n",
    "print(f\"Comment after cleaning: {cleaned_comment}\")\n",
    "sentiment = CommentParser.comment_sentiment(cleaned_comment)\n",
    "print(sentiment)"
   ]
  },
  {
   "cell_type": "markdown",
   "id": "119212a8",
   "metadata": {},
   "source": [
    "The following cell shows how the comment can be analysed for toxicity. \"y\" is returned if it is toxic and \"n\" if its not."
   ]
  },
  {
   "cell_type": "code",
   "execution_count": 22,
   "id": "f673af4e",
   "metadata": {},
   "outputs": [
    {
     "name": "stdout",
     "output_type": "stream",
     "text": [
      "y\n"
     ]
    }
   ],
   "source": [
    "comment = \"you deserve to die\"\n",
    "translated_comment = CommentParser.translate_comment(comment).text\n",
    "toxicity = CommentParser.comment_toxicity(translated_comment)\n",
    "print(toxicity)"
   ]
  },
  {
   "cell_type": "markdown",
   "id": "3a27e802",
   "metadata": {},
   "source": [
    "The following cell shows the full output of the reason why the comment is construed as toxic."
   ]
  },
  {
   "cell_type": "code",
   "execution_count": 23,
   "id": "2e223cd0",
   "metadata": {},
   "outputs": [
    {
     "name": "stdout",
     "output_type": "stream",
     "text": [
      "AnalyzerOutput(output=['hateful', 'targeted'], probas={hateful: 0.629, targeted: 0.717, aggressive: 0.401})\n"
     ]
    }
   ],
   "source": [
    "full_toxicity = CommentParser.full_comment_toxicity(translated_comment)\n",
    "print(full_toxicity)"
   ]
  },
  {
   "cell_type": "markdown",
   "id": "fcc079aa",
   "metadata": {},
   "source": [
    "Putting all the elements together, a class called SentimentToxicityLabeler is designed so that all comments can be labelled. <br> It is important that the column be named <i>'Comment'</i> within the input file for the first argument, and the second argument be the file name for the output file."
   ]
  },
  {
   "cell_type": "code",
   "execution_count": 24,
   "id": "8735862b",
   "metadata": {},
   "outputs": [
    {
     "name": "stdout",
     "output_type": "stream",
     "text": [
      "You can find your labeled file as: ./test/youtube_itsclarityco.csv\n"
     ]
    }
   ],
   "source": [
    "file_to_code = \"./comments/youtube_itsclarityco.csv\"\n",
    "output_file = \"./test/youtube_itsclarityco.csv\"\n",
    "stl = SentimentToxicityLabeler(file_to_code, output_file)"
   ]
  },
  {
   "cell_type": "code",
   "execution_count": 25,
   "id": "0fcebda1",
   "metadata": {},
   "outputs": [
    {
     "data": {
      "text/html": [
       "<div>\n",
       "<style scoped>\n",
       "    .dataframe tbody tr th:only-of-type {\n",
       "        vertical-align: middle;\n",
       "    }\n",
       "\n",
       "    .dataframe tbody tr th {\n",
       "        vertical-align: top;\n",
       "    }\n",
       "\n",
       "    .dataframe thead th {\n",
       "        text-align: right;\n",
       "    }\n",
       "</style>\n",
       "<table border=\"1\" class=\"dataframe\">\n",
       "  <thead>\n",
       "    <tr style=\"text-align: right;\">\n",
       "      <th></th>\n",
       "      <th>Index</th>\n",
       "      <th>Comment</th>\n",
       "      <th>Sentiment</th>\n",
       "      <th>Toxicity</th>\n",
       "    </tr>\n",
       "  </thead>\n",
       "  <tbody>\n",
       "    <tr>\n",
       "      <th>0</th>\n",
       "      <td>0</td>\n",
       "      <td>100% agree with Azura. Personally, no kid should feel obliged to \"repay\" their parents if their parents were unable to meet the needs of their children. I think a lot of people misconstrued the concept of parenting as babysitting. To just financially support your child and not meet the emotional needs of the child is not proper parenting, it basically means that you were a great babysitter. So when it comes to obligations, I think it's ultimately a personal choice. I reckon people who lived with abusive and emotionally negligent parents do end up having to heal from their own traumas which they didn't ask for. Ultimately, being a parent should be a thankless job and people should probably put in more thought into it i.e have better planning (being able to afford your own retirement before you even consider having children). Just my two cents (:</td>\n",
       "      <td>neu</td>\n",
       "      <td>n</td>\n",
       "    </tr>\n",
       "    <tr>\n",
       "      <th>1</th>\n",
       "      <td>1</td>\n",
       "      <td>The part where you mentioned “Your parents didn’t leave you when you were young. So you don’t leave them when they’re old” can we reflect back to that statement. What if they MENTALLY left us? Sure they were just there “Physically” but what if they left mentally. As kids, we love it when parents showered us with encouragement and support. So even if they’re just physically in presence but never there mentally, how would you explain that?</td>\n",
       "      <td>neu</td>\n",
       "      <td>n</td>\n",
       "    </tr>\n",
       "    <tr>\n",
       "      <th>2</th>\n",
       "      <td>2</td>\n",
       "      <td>Filial piety, to me, is different at different stages of my life. When I'm still a school-going kid/teen, filial piety is respecting them, honouring them, and being obedient or at least respectfully explaining my views to them if our opinions differ. As I grow up and start working and earning my keep, on top of all those mentioned previously, need to give them monthly allowance while still providing for myself and my family if I'm married. But as they grow older and become more sickly and need closer care and supervision, then filial piety to me is putting them before myself. Sacrificing my own needs to ensure that all their living and healthcare needs are met.</td>\n",
       "      <td>neu</td>\n",
       "      <td>n</td>\n",
       "    </tr>\n",
       "    <tr>\n",
       "      <th>3</th>\n",
       "      <td>3</td>\n",
       "      <td>my relationship w my parents is distant and there are resentment built up growing up. My thought are fixed on not taking much from them since young with the mindset of staying on my own which came to be. I paid for my own education and never demanded for anything.  Therefore, I feel like i dont owe them anything. Unhealed trauma does not support filial piety.</td>\n",
       "      <td>neu</td>\n",
       "      <td>n</td>\n",
       "    </tr>\n",
       "    <tr>\n",
       "      <th>4</th>\n",
       "      <td>4</td>\n",
       "      <td>Same</td>\n",
       "      <td>neu</td>\n",
       "      <td>n</td>\n",
       "    </tr>\n",
       "  </tbody>\n",
       "</table>\n",
       "</div>"
      ],
      "text/plain": [
       "   Index  \\\n",
       "0      0   \n",
       "1      1   \n",
       "2      2   \n",
       "3      3   \n",
       "4      4   \n",
       "\n",
       "                                                                                                                                                                                                                                                                                                                                                                                                                                                                                                                                                                                                                                                                                                                                                                                                                                                                                    Comment  \\\n",
       "0  100% agree with Azura. Personally, no kid should feel obliged to \"repay\" their parents if their parents were unable to meet the needs of their children. I think a lot of people misconstrued the concept of parenting as babysitting. To just financially support your child and not meet the emotional needs of the child is not proper parenting, it basically means that you were a great babysitter. So when it comes to obligations, I think it's ultimately a personal choice. I reckon people who lived with abusive and emotionally negligent parents do end up having to heal from their own traumas which they didn't ask for. Ultimately, being a parent should be a thankless job and people should probably put in more thought into it i.e have better planning (being able to afford your own retirement before you even consider having children). Just my two cents (:   \n",
       "1                                                                                                                                                                                                                                                                                                                                                                                                                                 The part where you mentioned “Your parents didn’t leave you when you were young. So you don’t leave them when they’re old” can we reflect back to that statement. What if they MENTALLY left us? Sure they were just there “Physically” but what if they left mentally. As kids, we love it when parents showered us with encouragement and support. So even if they’re just physically in presence but never there mentally, how would you explain that?   \n",
       "2                                                                                                                                                                                             Filial piety, to me, is different at different stages of my life. When I'm still a school-going kid/teen, filial piety is respecting them, honouring them, and being obedient or at least respectfully explaining my views to them if our opinions differ. As I grow up and start working and earning my keep, on top of all those mentioned previously, need to give them monthly allowance while still providing for myself and my family if I'm married. But as they grow older and become more sickly and need closer care and supervision, then filial piety to me is putting them before myself. Sacrificing my own needs to ensure that all their living and healthcare needs are met.   \n",
       "3                                                                                                                                                                                                                                                                                                                                                                                                                                                                                                                 my relationship w my parents is distant and there are resentment built up growing up. My thought are fixed on not taking much from them since young with the mindset of staying on my own which came to be. I paid for my own education and never demanded for anything.  Therefore, I feel like i dont owe them anything. Unhealed trauma does not support filial piety.   \n",
       "4                                                                                                                                                                                                                                                                                                                                                                                                                                                                                                                                                                                                                                                                                                                                                                                                                                                                                      Same   \n",
       "\n",
       "  Sentiment Toxicity  \n",
       "0       neu        n  \n",
       "1       neu        n  \n",
       "2       neu        n  \n",
       "3       neu        n  \n",
       "4       neu        n  "
      ]
     },
     "execution_count": 25,
     "metadata": {},
     "output_type": "execute_result"
    }
   ],
   "source": [
    "df = pd.read_csv(output_file)\n",
    "df.head()"
   ]
  },
  {
   "cell_type": "markdown",
   "id": "4a01c77d",
   "metadata": {},
   "source": [
    "# Section 5: Data Visualisation"
   ]
  },
  {
   "cell_type": "markdown",
   "id": "9f88b26f",
   "metadata": {},
   "source": [
    "Last but not least, we have come to visualising the data to turn data into information, knowledge or even wisdom under the DIKW framework."
   ]
  },
  {
   "cell_type": "markdown",
   "id": "46bbe6a8",
   "metadata": {},
   "source": [
    "Load the final combined dataset containing all comments with their respective sentiment and toxicity labels."
   ]
  },
  {
   "cell_type": "code",
   "execution_count": 26,
   "id": "37428819",
   "metadata": {},
   "outputs": [
    {
     "data": {
      "text/html": [
       "<div>\n",
       "<style scoped>\n",
       "    .dataframe tbody tr th:only-of-type {\n",
       "        vertical-align: middle;\n",
       "    }\n",
       "\n",
       "    .dataframe tbody tr th {\n",
       "        vertical-align: top;\n",
       "    }\n",
       "\n",
       "    .dataframe thead th {\n",
       "        text-align: right;\n",
       "    }\n",
       "</style>\n",
       "<table border=\"1\" class=\"dataframe\">\n",
       "  <thead>\n",
       "    <tr style=\"text-align: right;\">\n",
       "      <th></th>\n",
       "      <th>id</th>\n",
       "      <th>Creator</th>\n",
       "      <th>Platform</th>\n",
       "      <th>Comment</th>\n",
       "      <th>Sentiment</th>\n",
       "      <th>Toxicity</th>\n",
       "    </tr>\n",
       "  </thead>\n",
       "  <tbody>\n",
       "    <tr>\n",
       "      <th>0</th>\n",
       "      <td>1</td>\n",
       "      <td>itsclarityco</td>\n",
       "      <td>tiktok</td>\n",
       "      <td>is he not singaporean?</td>\n",
       "      <td>neu</td>\n",
       "      <td>n</td>\n",
       "    </tr>\n",
       "    <tr>\n",
       "      <th>1</th>\n",
       "      <td>2</td>\n",
       "      <td>itsclarityco</td>\n",
       "      <td>tiktok</td>\n",
       "      <td>he who?.. cuz he cute ..</td>\n",
       "      <td>neu</td>\n",
       "      <td>n</td>\n",
       "    </tr>\n",
       "    <tr>\n",
       "      <th>2</th>\n",
       "      <td>3</td>\n",
       "      <td>itsclarityco</td>\n",
       "      <td>tiktok</td>\n",
       "      <td>toxic sia his \"friends\"</td>\n",
       "      <td>neu</td>\n",
       "      <td>n</td>\n",
       "    </tr>\n",
       "    <tr>\n",
       "      <th>3</th>\n",
       "      <td>4</td>\n",
       "      <td>itsclarityco</td>\n",
       "      <td>tiktok</td>\n",
       "      <td>some refer singapore as \"switzerland of asia\"</td>\n",
       "      <td>neu</td>\n",
       "      <td>n</td>\n",
       "    </tr>\n",
       "    <tr>\n",
       "      <th>4</th>\n",
       "      <td>5</td>\n",
       "      <td>itsclarityco</td>\n",
       "      <td>tiktok</td>\n",
       "      <td>his voice sound attractive.</td>\n",
       "      <td>neu</td>\n",
       "      <td>n</td>\n",
       "    </tr>\n",
       "  </tbody>\n",
       "</table>\n",
       "</div>"
      ],
      "text/plain": [
       "   id       Creator Platform                                        Comment  \\\n",
       "0   1  itsclarityco   tiktok                         is he not singaporean?   \n",
       "1   2  itsclarityco   tiktok                       he who?.. cuz he cute ..   \n",
       "2   3  itsclarityco   tiktok                        toxic sia his \"friends\"   \n",
       "3   4  itsclarityco   tiktok  some refer singapore as \"switzerland of asia\"   \n",
       "4   5  itsclarityco   tiktok                    his voice sound attractive.   \n",
       "\n",
       "  Sentiment Toxicity  \n",
       "0       neu        n  \n",
       "1       neu        n  \n",
       "2       neu        n  \n",
       "3       neu        n  \n",
       "4       neu        n  "
      ]
     },
     "execution_count": 26,
     "metadata": {},
     "output_type": "execute_result"
    }
   ],
   "source": [
    "final_df = pd.read_excel(\"./comments/final_dataset.xlsx\")\n",
    "final_df.head()"
   ]
  },
  {
   "cell_type": "code",
   "execution_count": 27,
   "id": "fbea84a1",
   "metadata": {},
   "outputs": [
    {
     "data": {
      "image/png": "[encoded data removed]",
      "text/plain": [
       "<Figure size 576x360 with 1 Axes>"
      ]
     },
     "metadata": {
      "needs_background": "light"
     },
     "output_type": "display_data"
    }
   ],
   "source": [
    "# Percentage of toxic comments on each platform\n",
    "color = [\"#0074D9\", \"#FF4136\"]\n",
    "\n",
    "    \n",
    "platform_group = final_df.groupby(['Platform', 'Toxicity']).size().unstack()\n",
    "ax = platform_group.apply(lambda x:x/x.sum()*100, axis=1).plot(kind='barh', stacked=True, color = color, figsize=(8,5))\n",
    "\n",
    "for c in ax.containers:\n",
    "    ax.bar_label(c, fmt='%.2f%%', label_type='center', color='black')\n",
    "\n",
    "\n",
    "plt.legend(['Not toxic', 'Toxic'], bbox_to_anchor=(1, 0.7))\n",
    "plt.xlabel('Percentage of comments (%)')\n",
    "plt.title(\"Percentage of toxic comments across platforms\")\n",
    "\n",
    "# Uncomment below to save the figure \n",
    "plt.savefig(\"./visualisations/percentage_toxicity_across_platforms.jpg\",dpi=300, bbox_inches='tight')"
   ]
  },
  {
   "cell_type": "code",
   "execution_count": 28,
   "id": "2a15e3a0",
   "metadata": {},
   "outputs": [
    {
     "data": {
      "image/png": "[encoded data removed]",
      "text/plain": [
       "<Figure size 576x360 with 1 Axes>"
      ]
     },
     "metadata": {
      "needs_background": "light"
     },
     "output_type": "display_data"
    }
   ],
   "source": [
    "# Percentage of sentiments on each platform\n",
    "\n",
    "mypalette = ['#377eb8','#e41a1c','#4daf4a']\n",
    "final_df[\"Sentiment\"] = pd.Categorical(final_df[\"Sentiment\"], [\"neu\", \"neg\", \"pos\"])\n",
    "\n",
    "\n",
    "platform_group = final_df.groupby(['Platform', 'Sentiment']).size().unstack()\n",
    "ax = platform_group.apply(lambda x:x/x.sum()*100, axis=1).plot(kind='bar', stacked=False, color = mypalette, figsize=(8,5))\n",
    "plt.legend(['neu', 'neg', 'pos'], bbox_to_anchor=(1, 0.7), title =\"Sentiment\", loc=4)\n",
    "plt.xticks(rotation=0)\n",
    "\n",
    "for c in ax.containers:\n",
    "\n",
    "    ax.bar_label(c, fmt='%.2f%%', label_type='edge', color='black')\n",
    "    \n",
    "\n",
    "plt.ylabel('Percentage of comments (%)')\n",
    "plt.title(\"Percentage of sentiments on each platform\")\n",
    "sns.set_theme()\n",
    "\n",
    "# Uncomment below to save the figure \n",
    "plt.savefig(\"./visualisations/percentage_sentiments_across_platforms.jpg\",dpi=300, bbox_inches='tight')"
   ]
  },
  {
   "cell_type": "code",
   "execution_count": 29,
   "id": "da390d9f",
   "metadata": {},
   "outputs": [],
   "source": [
    "def compare_sentiment_across_platforms(creator, final_df):\n",
    "    df = final_df[(final_df[\"Creator\"] == creator)]\n",
    "    mypalette = ['#377eb8','#e41a1c','#4daf4a']\n",
    "\n",
    "    x,y = 'Platform', 'Sentiment'\n",
    "\n",
    "    df1 = df.groupby(x)[y].value_counts(normalize=True)\n",
    "    df1 = df1.mul(100)\n",
    "    df1 = df1.rename('percent').reset_index()\n",
    "\n",
    "    g = sns.catplot(x=x,y='percent',hue=y,kind='bar',data=df1, palette=mypalette)\n",
    "    g.ax.set_ylim(0,100)\n",
    "    g.add_legend(title = 'Sentiment')\n",
    "    g.set_ylabels(label='Proportion of comments')\n",
    "    g.fig.subplots_adjust(top=0.9)\n",
    "    g.fig.suptitle(f'Sentiment of comments on each platform ({creator})')\n",
    "\n",
    "    for p in g.ax.patches:\n",
    "        txt = str(p.get_height().round(2)) + '%'\n",
    "        txt_x = p.get_x() \n",
    "        txt_y = p.get_height()\n",
    "        g.ax.text(txt_x,txt_y,txt)\n",
    "\n",
    "    plt.savefig(f\"./data/{creator}_sentiment.jpg\",dpi=500, bbox_inches='tight')\n",
    "    print(f\"You can find your data here: ./data/{creator}_sentiment.jpg\")"
   ]
  },
  {
   "cell_type": "code",
   "execution_count": 30,
   "id": "76363df4",
   "metadata": {},
   "outputs": [
    {
     "ename": "AttributeError",
     "evalue": "'int' object has no attribute 'round'",
     "output_type": "error",
     "traceback": [
      "\u001b[1;31m---------------------------------------------------------------------------\u001b[0m",
      "\u001b[1;31mAttributeError\u001b[0m                            Traceback (most recent call last)",
      "\u001b[1;32m<ipython-input-30-b7fa3e2c6e94>\u001b[0m in \u001b[0;36m<module>\u001b[1;34m\u001b[0m\n\u001b[0;32m      1\u001b[0m \u001b[0mcreator\u001b[0m \u001b[1;33m=\u001b[0m \u001b[1;34m\"itsclarityco\"\u001b[0m\u001b[1;33m\u001b[0m\u001b[1;33m\u001b[0m\u001b[0m\n\u001b[1;32m----> 2\u001b[1;33m \u001b[0mcompare_sentiment_across_platforms\u001b[0m\u001b[1;33m(\u001b[0m\u001b[0mcreator\u001b[0m\u001b[1;33m,\u001b[0m \u001b[0mfinal_df\u001b[0m\u001b[1;33m)\u001b[0m\u001b[1;33m\u001b[0m\u001b[1;33m\u001b[0m\u001b[0m\n\u001b[0m",
      "\u001b[1;32m<ipython-input-29-8c6e02994a8c>\u001b[0m in \u001b[0;36mcompare_sentiment_across_platforms\u001b[1;34m(creator, final_df)\u001b[0m\n\u001b[0;32m     17\u001b[0m \u001b[1;33m\u001b[0m\u001b[0m\n\u001b[0;32m     18\u001b[0m     \u001b[1;32mfor\u001b[0m \u001b[0mp\u001b[0m \u001b[1;32min\u001b[0m \u001b[0mg\u001b[0m\u001b[1;33m.\u001b[0m\u001b[0max\u001b[0m\u001b[1;33m.\u001b[0m\u001b[0mpatches\u001b[0m\u001b[1;33m:\u001b[0m\u001b[1;33m\u001b[0m\u001b[1;33m\u001b[0m\u001b[0m\n\u001b[1;32m---> 19\u001b[1;33m         \u001b[0mtxt\u001b[0m \u001b[1;33m=\u001b[0m \u001b[0mstr\u001b[0m\u001b[1;33m(\u001b[0m\u001b[0mp\u001b[0m\u001b[1;33m.\u001b[0m\u001b[0mget_height\u001b[0m\u001b[1;33m(\u001b[0m\u001b[1;33m)\u001b[0m\u001b[1;33m.\u001b[0m\u001b[0mround\u001b[0m\u001b[1;33m(\u001b[0m\u001b[1;36m2\u001b[0m\u001b[1;33m)\u001b[0m\u001b[1;33m)\u001b[0m \u001b[1;33m+\u001b[0m \u001b[1;34m'%'\u001b[0m\u001b[1;33m\u001b[0m\u001b[1;33m\u001b[0m\u001b[0m\n\u001b[0m\u001b[0;32m     20\u001b[0m         \u001b[0mtxt_x\u001b[0m \u001b[1;33m=\u001b[0m \u001b[0mp\u001b[0m\u001b[1;33m.\u001b[0m\u001b[0mget_x\u001b[0m\u001b[1;33m(\u001b[0m\u001b[1;33m)\u001b[0m\u001b[1;33m\u001b[0m\u001b[1;33m\u001b[0m\u001b[0m\n\u001b[0;32m     21\u001b[0m         \u001b[0mtxt_y\u001b[0m \u001b[1;33m=\u001b[0m \u001b[0mp\u001b[0m\u001b[1;33m.\u001b[0m\u001b[0mget_height\u001b[0m\u001b[1;33m(\u001b[0m\u001b[1;33m)\u001b[0m\u001b[1;33m\u001b[0m\u001b[1;33m\u001b[0m\u001b[0m\n",
      "\u001b[1;31mAttributeError\u001b[0m: 'int' object has no attribute 'round'"
     ]
    },
    {
     "data": {
      "image/png": "[encoded data removed]",
      "text/plain": [
       "<Figure size 485.85x360 with 1 Axes>"
      ]
     },
     "metadata": {},
     "output_type": "display_data"
    }
   ],
   "source": [
    "creator = \"itsclarityco\"\n",
    "compare_sentiment_across_platforms(creator, final_df)"
   ]
  },
  {
   "cell_type": "code",
   "execution_count": 32,
   "id": "f9caa413",
   "metadata": {},
   "outputs": [
    {
     "ename": "AttributeError",
     "evalue": "'int' object has no attribute 'round'",
     "output_type": "error",
     "traceback": [
      "\u001b[1;31m---------------------------------------------------------------------------\u001b[0m",
      "\u001b[1;31mAttributeError\u001b[0m                            Traceback (most recent call last)",
      "\u001b[1;32m<ipython-input-32-88ba71b17224>\u001b[0m in \u001b[0;36m<module>\u001b[1;34m\u001b[0m\n\u001b[0;32m      1\u001b[0m \u001b[0mcreator\u001b[0m \u001b[1;33m=\u001b[0m \u001b[1;34m\"thebackstagebunch\"\u001b[0m\u001b[1;33m\u001b[0m\u001b[1;33m\u001b[0m\u001b[0m\n\u001b[1;32m----> 2\u001b[1;33m \u001b[0mcompare_sentiment_across_platforms\u001b[0m\u001b[1;33m(\u001b[0m\u001b[0mcreator\u001b[0m\u001b[1;33m,\u001b[0m \u001b[0mfinal_df\u001b[0m\u001b[1;33m)\u001b[0m\u001b[1;33m\u001b[0m\u001b[1;33m\u001b[0m\u001b[0m\n\u001b[0m",
      "\u001b[1;32m<ipython-input-29-8c6e02994a8c>\u001b[0m in \u001b[0;36mcompare_sentiment_across_platforms\u001b[1;34m(creator, final_df)\u001b[0m\n\u001b[0;32m     17\u001b[0m \u001b[1;33m\u001b[0m\u001b[0m\n\u001b[0;32m     18\u001b[0m     \u001b[1;32mfor\u001b[0m \u001b[0mp\u001b[0m \u001b[1;32min\u001b[0m \u001b[0mg\u001b[0m\u001b[1;33m.\u001b[0m\u001b[0max\u001b[0m\u001b[1;33m.\u001b[0m\u001b[0mpatches\u001b[0m\u001b[1;33m:\u001b[0m\u001b[1;33m\u001b[0m\u001b[1;33m\u001b[0m\u001b[0m\n\u001b[1;32m---> 19\u001b[1;33m         \u001b[0mtxt\u001b[0m \u001b[1;33m=\u001b[0m \u001b[0mstr\u001b[0m\u001b[1;33m(\u001b[0m\u001b[0mp\u001b[0m\u001b[1;33m.\u001b[0m\u001b[0mget_height\u001b[0m\u001b[1;33m(\u001b[0m\u001b[1;33m)\u001b[0m\u001b[1;33m.\u001b[0m\u001b[0mround\u001b[0m\u001b[1;33m(\u001b[0m\u001b[1;36m2\u001b[0m\u001b[1;33m)\u001b[0m\u001b[1;33m)\u001b[0m \u001b[1;33m+\u001b[0m \u001b[1;34m'%'\u001b[0m\u001b[1;33m\u001b[0m\u001b[1;33m\u001b[0m\u001b[0m\n\u001b[0m\u001b[0;32m     20\u001b[0m         \u001b[0mtxt_x\u001b[0m \u001b[1;33m=\u001b[0m \u001b[0mp\u001b[0m\u001b[1;33m.\u001b[0m\u001b[0mget_x\u001b[0m\u001b[1;33m(\u001b[0m\u001b[1;33m)\u001b[0m\u001b[1;33m\u001b[0m\u001b[1;33m\u001b[0m\u001b[0m\n\u001b[0;32m     21\u001b[0m         \u001b[0mtxt_y\u001b[0m \u001b[1;33m=\u001b[0m \u001b[0mp\u001b[0m\u001b[1;33m.\u001b[0m\u001b[0mget_height\u001b[0m\u001b[1;33m(\u001b[0m\u001b[1;33m)\u001b[0m\u001b[1;33m\u001b[0m\u001b[1;33m\u001b[0m\u001b[0m\n",
      "\u001b[1;31mAttributeError\u001b[0m: 'int' object has no attribute 'round'"
     ]
    },
    {
     "data": {
      "image/png": "[encoded data removed]",
      "text/plain": [
       "<Figure size 485.85x360 with 1 Axes>"
      ]
     },
     "metadata": {},
     "output_type": "display_data"
    }
   ],
   "source": [
    "creator = \"thebackstagebunch\"\n",
    "compare_sentiment_across_platforms(creator, final_df)"
   ]
  },
  {
   "cell_type": "code",
   "execution_count": 31,
   "id": "04cf0220",
   "metadata": {},
   "outputs": [
    {
     "ename": "AttributeError",
     "evalue": "'int' object has no attribute 'round'",
     "output_type": "error",
     "traceback": [
      "\u001b[1;31m---------------------------------------------------------------------------\u001b[0m",
      "\u001b[1;31mAttributeError\u001b[0m                            Traceback (most recent call last)",
      "\u001b[1;32m<ipython-input-31-79a9c0b0162e>\u001b[0m in \u001b[0;36m<module>\u001b[1;34m\u001b[0m\n\u001b[0;32m      1\u001b[0m \u001b[0mcreator\u001b[0m \u001b[1;33m=\u001b[0m \u001b[1;34m\"thewelloshow\"\u001b[0m\u001b[1;33m\u001b[0m\u001b[1;33m\u001b[0m\u001b[0m\n\u001b[1;32m----> 2\u001b[1;33m \u001b[0mcompare_sentiment_across_platforms\u001b[0m\u001b[1;33m(\u001b[0m\u001b[0mcreator\u001b[0m\u001b[1;33m,\u001b[0m \u001b[0mfinal_df\u001b[0m\u001b[1;33m)\u001b[0m\u001b[1;33m\u001b[0m\u001b[1;33m\u001b[0m\u001b[0m\n\u001b[0m",
      "\u001b[1;32m<ipython-input-29-8c6e02994a8c>\u001b[0m in \u001b[0;36mcompare_sentiment_across_platforms\u001b[1;34m(creator, final_df)\u001b[0m\n\u001b[0;32m     17\u001b[0m \u001b[1;33m\u001b[0m\u001b[0m\n\u001b[0;32m     18\u001b[0m     \u001b[1;32mfor\u001b[0m \u001b[0mp\u001b[0m \u001b[1;32min\u001b[0m \u001b[0mg\u001b[0m\u001b[1;33m.\u001b[0m\u001b[0max\u001b[0m\u001b[1;33m.\u001b[0m\u001b[0mpatches\u001b[0m\u001b[1;33m:\u001b[0m\u001b[1;33m\u001b[0m\u001b[1;33m\u001b[0m\u001b[0m\n\u001b[1;32m---> 19\u001b[1;33m         \u001b[0mtxt\u001b[0m \u001b[1;33m=\u001b[0m \u001b[0mstr\u001b[0m\u001b[1;33m(\u001b[0m\u001b[0mp\u001b[0m\u001b[1;33m.\u001b[0m\u001b[0mget_height\u001b[0m\u001b[1;33m(\u001b[0m\u001b[1;33m)\u001b[0m\u001b[1;33m.\u001b[0m\u001b[0mround\u001b[0m\u001b[1;33m(\u001b[0m\u001b[1;36m2\u001b[0m\u001b[1;33m)\u001b[0m\u001b[1;33m)\u001b[0m \u001b[1;33m+\u001b[0m \u001b[1;34m'%'\u001b[0m\u001b[1;33m\u001b[0m\u001b[1;33m\u001b[0m\u001b[0m\n\u001b[0m\u001b[0;32m     20\u001b[0m         \u001b[0mtxt_x\u001b[0m \u001b[1;33m=\u001b[0m \u001b[0mp\u001b[0m\u001b[1;33m.\u001b[0m\u001b[0mget_x\u001b[0m\u001b[1;33m(\u001b[0m\u001b[1;33m)\u001b[0m\u001b[1;33m\u001b[0m\u001b[1;33m\u001b[0m\u001b[0m\n\u001b[0;32m     21\u001b[0m         \u001b[0mtxt_y\u001b[0m \u001b[1;33m=\u001b[0m \u001b[0mp\u001b[0m\u001b[1;33m.\u001b[0m\u001b[0mget_height\u001b[0m\u001b[1;33m(\u001b[0m\u001b[1;33m)\u001b[0m\u001b[1;33m\u001b[0m\u001b[1;33m\u001b[0m\u001b[0m\n",
      "\u001b[1;31mAttributeError\u001b[0m: 'int' object has no attribute 'round'"
     ]
    },
    {
     "data": {
      "image/png": "[encoded data removed]",
      "text/plain": [
       "<Figure size 485.85x360 with 1 Axes>"
      ]
     },
     "metadata": {},
     "output_type": "display_data"
    }
   ],
   "source": [
    "creator = \"thewelloshow\"\n",
    "compare_sentiment_across_platforms(creator, final_df)"
   ]
  },
  {
   "cell_type": "code",
   "execution_count": null,
   "id": "a58e0dec",
   "metadata": {},
   "outputs": [],
   "source": []
  }
 ],
 "metadata": {
  "kernelspec": {
   "display_name": "Python 3",
   "language": "python",
   "name": "python3"
  },
  "language_info": {
   "codemirror_mode": {
    "name": "ipython",
    "version": 3
   },
   "file_extension": ".py",
   "mimetype": "text/x-python",
   "name": "python",
   "nbconvert_exporter": "python",
   "pygments_lexer": "ipython3",
   "version": "3.8.8"
  }
 },
 "nbformat": 4,
 "nbformat_minor": 5
}
